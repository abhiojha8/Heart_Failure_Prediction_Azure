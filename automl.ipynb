{
  "cells": [
    {
      "cell_type": "markdown",
      "source": [
        "# Automated ML"
      ],
      "metadata": {}
    },
    {
      "cell_type": "code",
      "source": [
        "from azureml.core import Workspace, Experiment, Dataset\n",
        "from azureml.core.compute import AmlCompute\n",
        "from azureml.core.compute import ComputeTarget\n",
        "from azureml.core.compute_target import ComputeTargetException\n",
        "from azureml.train.automl import AutoMLConfig\n",
        "from azureml.widgets import RunDetails\n",
        "from azureml.core.model import InferenceConfig \n",
        "from azureml.core.webservice import AciWebservice, Webservice\n",
        "from azureml.core.model import Model\n",
        "\n",
        "import pandas as pd"
      ],
      "outputs": [],
      "execution_count": 1,
      "metadata": {
        "gather": {
          "logged": 1619338872438
        },
        "jupyter": {
          "outputs_hidden": false,
          "source_hidden": false
        },
        "nteract": {
          "transient": {
            "deleting": false
          }
        }
      }
    },
    {
      "cell_type": "code",
      "source": [
        "ws = Workspace.from_config()\n",
        "print(ws.name, ws.resource_group, ws.location, ws.subscription_id, sep = '\\n')\n",
        "\n",
        "experiment_name = 'capstone-heart-failure-prediction'\n",
        "experiment=Experiment(ws, experiment_name)\n",
        "experiment\n",
        "\n",
        "run = experiment.start_logging()"
      ],
      "outputs": [
        {
          "output_type": "stream",
          "name": "stdout",
          "text": [
            "ws_udacity_capstone\n",
            "UdacityMLAzureCapstone\n",
            "eastus2\n",
            "ca1598e0-85dc-47d5-b06d-41b5342b4989\n"
          ]
        }
      ],
      "execution_count": 2,
      "metadata": {
        "gather": {
          "logged": 1619338878342
        },
        "jupyter": {
          "outputs_hidden": false,
          "source_hidden": false
        },
        "nteract": {
          "transient": {
            "deleting": false
          }
        }
      }
    },
    {
      "cell_type": "markdown",
      "source": [
        "## Create New Cluster / Use Existing Cluster"
      ],
      "metadata": {
        "nteract": {
          "transient": {
            "deleting": false
          }
        }
      }
    },
    {
      "cell_type": "code",
      "source": [
        "# Create compute cluster and choose a name for it\n",
        "cpu_cluster_name = \"MLAzureCapstoneCompute\"\n",
        "\n",
        "# Verify that cluster does not exist already\n",
        "try:\n",
        "    compute_target = ComputeTarget(workspace=ws, name=cpu_cluster_name)\n",
        "    print('Found existing cluster, use it.')\n",
        "except ComputeTargetException:\n",
        "    print('Creating a new compute cluster...')\n",
        "    compute_config = AmlCompute.provisioning_configuration(vm_size='Standard_DS3_v2', \n",
        "                                                            min_nodes=1, \n",
        "                                                            max_nodes=4)\n",
        "    compute_target = ComputeTarget.create(ws, cpu_cluster_name, compute_config)\n",
        "\n",
        "# Can poll for a minimum number of nodes and for a specific timeout. \n",
        "# If no min node count is provided it uses the scale settings for the cluster.\n",
        "compute_target.wait_for_completion(show_output=True)\n",
        "\n",
        "# use get_status() to get a detailed status for the current cluster. \n",
        "print(compute_target.get_status().serialize())"
      ],
      "outputs": [
        {
          "output_type": "stream",
          "name": "stdout",
          "text": [
            "Found existing cluster, use it.\n",
            "\n",
            "Running\n",
            "{'errors': [], 'creationTime': '2021-04-22T16:36:06.518630+00:00', 'createdBy': {'userObjectId': '2f5770ca-7bf7-4ecc-bd4b-14652b1bbf0c', 'userTenantId': '3814e260-63cb-43a8-82ce-e862c309e004', 'userName': 'Abhi Ojha'}, 'modifiedTime': '2021-04-22T16:38:24.852462+00:00', 'state': 'Running', 'vmSize': 'STANDARD_DS3_V2'}\n"
          ]
        }
      ],
      "execution_count": 3,
      "metadata": {
        "collapsed": true,
        "jupyter": {
          "source_hidden": false,
          "outputs_hidden": false
        },
        "nteract": {
          "transient": {
            "deleting": false
          }
        },
        "gather": {
          "logged": 1619338888839
        }
      }
    },
    {
      "cell_type": "markdown",
      "source": [
        "## Dataset\n",
        "\n",
        "### Overview\n",
        "\n",
        "This dataset used in this project is taken from [Kaggle](https://www.kaggle.com/andrewmvd/heart-failure-clinical-data). It consists of 12 distinct features and 1 target as summarized below:\n",
        "- **Input features** - Age, Anaemia, Creatinine-phosphokinase, Diabetes, Ejection_fraction, High_blood_pressure, Platelets, Serum_creatinine, Serum_sodium, Sex, Smoking, Time\n",
        "- **Target** - DEATH_EVENT\n",
        "\n",
        "We will use this dataset for creating a model to predict mortality caused by heart failure."
      ],
      "metadata": {}
    },
    {
      "cell_type": "code",
      "source": [
        "local_data_path = 'data/heart_failure_clinical_records_dataset.csv'\n",
        "\n",
        "# get the datastore to upload prepared data\n",
        "datastore = ws.get_default_datastore()\n",
        "\n",
        "# upload the local file from src_dir to the target_path in datastore\n",
        "datastore.upload(src_dir='data', target_path='data')\n",
        "\n",
        "# create a dataset referencing the cloud location\n",
        "heart_failure_ds= Dataset.Tabular.from_delimited_files(path = [(datastore, (local_data_path))])\n",
        "\n",
        "# register dataset\n",
        "heart_failure_ds = heart_failure_ds.register(workspace=ws, name='heart_failure_ds', create_new_version=True)\n",
        "\n",
        "df = pd.read_csv(local_data_path)\n",
        "df.head()"
      ],
      "outputs": [
        {
          "output_type": "stream",
          "name": "stdout",
          "text": [
            "Uploading an estimated of 1 files\n",
            "Target already exists. Skipping upload for data/heart_failure_clinical_records_dataset.csv\n",
            "Uploaded 0 files\n"
          ]
        },
        {
          "output_type": "execute_result",
          "execution_count": 4,
          "data": {
            "text/plain": "    age  anaemia  creatinine_phosphokinase  diabetes  ejection_fraction  \\\n0  75.0        0                       582         0                 20   \n1  55.0        0                      7861         0                 38   \n2  65.0        0                       146         0                 20   \n3  50.0        1                       111         0                 20   \n4  65.0        1                       160         1                 20   \n\n   high_blood_pressure  platelets  serum_creatinine  serum_sodium  sex  \\\n0                    1  265000.00               1.9           130    1   \n1                    0  263358.03               1.1           136    1   \n2                    0  162000.00               1.3           129    1   \n3                    0  210000.00               1.9           137    1   \n4                    0  327000.00               2.7           116    0   \n\n   smoking  time  DEATH_EVENT  \n0        0     4            1  \n1        0     6            1  \n2        1     7            1  \n3        0     7            1  \n4        0     8            1  ",
            "text/html": "<div>\n<style scoped>\n    .dataframe tbody tr th:only-of-type {\n        vertical-align: middle;\n    }\n\n    .dataframe tbody tr th {\n        vertical-align: top;\n    }\n\n    .dataframe thead th {\n        text-align: right;\n    }\n</style>\n<table border=\"1\" class=\"dataframe\">\n  <thead>\n    <tr style=\"text-align: right;\">\n      <th></th>\n      <th>age</th>\n      <th>anaemia</th>\n      <th>creatinine_phosphokinase</th>\n      <th>diabetes</th>\n      <th>ejection_fraction</th>\n      <th>high_blood_pressure</th>\n      <th>platelets</th>\n      <th>serum_creatinine</th>\n      <th>serum_sodium</th>\n      <th>sex</th>\n      <th>smoking</th>\n      <th>time</th>\n      <th>DEATH_EVENT</th>\n    </tr>\n  </thead>\n  <tbody>\n    <tr>\n      <th>0</th>\n      <td>75.0</td>\n      <td>0</td>\n      <td>582</td>\n      <td>0</td>\n      <td>20</td>\n      <td>1</td>\n      <td>265000.00</td>\n      <td>1.9</td>\n      <td>130</td>\n      <td>1</td>\n      <td>0</td>\n      <td>4</td>\n      <td>1</td>\n    </tr>\n    <tr>\n      <th>1</th>\n      <td>55.0</td>\n      <td>0</td>\n      <td>7861</td>\n      <td>0</td>\n      <td>38</td>\n      <td>0</td>\n      <td>263358.03</td>\n      <td>1.1</td>\n      <td>136</td>\n      <td>1</td>\n      <td>0</td>\n      <td>6</td>\n      <td>1</td>\n    </tr>\n    <tr>\n      <th>2</th>\n      <td>65.0</td>\n      <td>0</td>\n      <td>146</td>\n      <td>0</td>\n      <td>20</td>\n      <td>0</td>\n      <td>162000.00</td>\n      <td>1.3</td>\n      <td>129</td>\n      <td>1</td>\n      <td>1</td>\n      <td>7</td>\n      <td>1</td>\n    </tr>\n    <tr>\n      <th>3</th>\n      <td>50.0</td>\n      <td>1</td>\n      <td>111</td>\n      <td>0</td>\n      <td>20</td>\n      <td>0</td>\n      <td>210000.00</td>\n      <td>1.9</td>\n      <td>137</td>\n      <td>1</td>\n      <td>0</td>\n      <td>7</td>\n      <td>1</td>\n    </tr>\n    <tr>\n      <th>4</th>\n      <td>65.0</td>\n      <td>1</td>\n      <td>160</td>\n      <td>1</td>\n      <td>20</td>\n      <td>0</td>\n      <td>327000.00</td>\n      <td>2.7</td>\n      <td>116</td>\n      <td>0</td>\n      <td>0</td>\n      <td>8</td>\n      <td>1</td>\n    </tr>\n  </tbody>\n</table>\n</div>"
          },
          "metadata": {}
        }
      ],
      "execution_count": 4,
      "metadata": {
        "collapsed": true,
        "jupyter": {
          "source_hidden": false,
          "outputs_hidden": false
        },
        "nteract": {
          "transient": {
            "deleting": false
          }
        },
        "gather": {
          "logged": 1619338895803
        }
      }
    },
    {
      "cell_type": "code",
      "source": [
        "df.describe()"
      ],
      "outputs": [
        {
          "output_type": "execute_result",
          "execution_count": 5,
          "data": {
            "text/plain": "              age     anaemia  creatinine_phosphokinase    diabetes  \\\ncount  299.000000  299.000000                299.000000  299.000000   \nmean    60.833893    0.431438                581.839465    0.418060   \nstd     11.894809    0.496107                970.287881    0.494067   \nmin     40.000000    0.000000                 23.000000    0.000000   \n25%     51.000000    0.000000                116.500000    0.000000   \n50%     60.000000    0.000000                250.000000    0.000000   \n75%     70.000000    1.000000                582.000000    1.000000   \nmax     95.000000    1.000000               7861.000000    1.000000   \n\n       ejection_fraction  high_blood_pressure      platelets  \\\ncount         299.000000           299.000000     299.000000   \nmean           38.083612             0.351171  263358.029264   \nstd            11.834841             0.478136   97804.236869   \nmin            14.000000             0.000000   25100.000000   \n25%            30.000000             0.000000  212500.000000   \n50%            38.000000             0.000000  262000.000000   \n75%            45.000000             1.000000  303500.000000   \nmax            80.000000             1.000000  850000.000000   \n\n       serum_creatinine  serum_sodium         sex    smoking        time  \\\ncount         299.00000    299.000000  299.000000  299.00000  299.000000   \nmean            1.39388    136.625418    0.648829    0.32107  130.260870   \nstd             1.03451      4.412477    0.478136    0.46767   77.614208   \nmin             0.50000    113.000000    0.000000    0.00000    4.000000   \n25%             0.90000    134.000000    0.000000    0.00000   73.000000   \n50%             1.10000    137.000000    1.000000    0.00000  115.000000   \n75%             1.40000    140.000000    1.000000    1.00000  203.000000   \nmax             9.40000    148.000000    1.000000    1.00000  285.000000   \n\n       DEATH_EVENT  \ncount    299.00000  \nmean       0.32107  \nstd        0.46767  \nmin        0.00000  \n25%        0.00000  \n50%        0.00000  \n75%        1.00000  \nmax        1.00000  ",
            "text/html": "<div>\n<style scoped>\n    .dataframe tbody tr th:only-of-type {\n        vertical-align: middle;\n    }\n\n    .dataframe tbody tr th {\n        vertical-align: top;\n    }\n\n    .dataframe thead th {\n        text-align: right;\n    }\n</style>\n<table border=\"1\" class=\"dataframe\">\n  <thead>\n    <tr style=\"text-align: right;\">\n      <th></th>\n      <th>age</th>\n      <th>anaemia</th>\n      <th>creatinine_phosphokinase</th>\n      <th>diabetes</th>\n      <th>ejection_fraction</th>\n      <th>high_blood_pressure</th>\n      <th>platelets</th>\n      <th>serum_creatinine</th>\n      <th>serum_sodium</th>\n      <th>sex</th>\n      <th>smoking</th>\n      <th>time</th>\n      <th>DEATH_EVENT</th>\n    </tr>\n  </thead>\n  <tbody>\n    <tr>\n      <th>count</th>\n      <td>299.000000</td>\n      <td>299.000000</td>\n      <td>299.000000</td>\n      <td>299.000000</td>\n      <td>299.000000</td>\n      <td>299.000000</td>\n      <td>299.000000</td>\n      <td>299.00000</td>\n      <td>299.000000</td>\n      <td>299.000000</td>\n      <td>299.00000</td>\n      <td>299.000000</td>\n      <td>299.00000</td>\n    </tr>\n    <tr>\n      <th>mean</th>\n      <td>60.833893</td>\n      <td>0.431438</td>\n      <td>581.839465</td>\n      <td>0.418060</td>\n      <td>38.083612</td>\n      <td>0.351171</td>\n      <td>263358.029264</td>\n      <td>1.39388</td>\n      <td>136.625418</td>\n      <td>0.648829</td>\n      <td>0.32107</td>\n      <td>130.260870</td>\n      <td>0.32107</td>\n    </tr>\n    <tr>\n      <th>std</th>\n      <td>11.894809</td>\n      <td>0.496107</td>\n      <td>970.287881</td>\n      <td>0.494067</td>\n      <td>11.834841</td>\n      <td>0.478136</td>\n      <td>97804.236869</td>\n      <td>1.03451</td>\n      <td>4.412477</td>\n      <td>0.478136</td>\n      <td>0.46767</td>\n      <td>77.614208</td>\n      <td>0.46767</td>\n    </tr>\n    <tr>\n      <th>min</th>\n      <td>40.000000</td>\n      <td>0.000000</td>\n      <td>23.000000</td>\n      <td>0.000000</td>\n      <td>14.000000</td>\n      <td>0.000000</td>\n      <td>25100.000000</td>\n      <td>0.50000</td>\n      <td>113.000000</td>\n      <td>0.000000</td>\n      <td>0.00000</td>\n      <td>4.000000</td>\n      <td>0.00000</td>\n    </tr>\n    <tr>\n      <th>25%</th>\n      <td>51.000000</td>\n      <td>0.000000</td>\n      <td>116.500000</td>\n      <td>0.000000</td>\n      <td>30.000000</td>\n      <td>0.000000</td>\n      <td>212500.000000</td>\n      <td>0.90000</td>\n      <td>134.000000</td>\n      <td>0.000000</td>\n      <td>0.00000</td>\n      <td>73.000000</td>\n      <td>0.00000</td>\n    </tr>\n    <tr>\n      <th>50%</th>\n      <td>60.000000</td>\n      <td>0.000000</td>\n      <td>250.000000</td>\n      <td>0.000000</td>\n      <td>38.000000</td>\n      <td>0.000000</td>\n      <td>262000.000000</td>\n      <td>1.10000</td>\n      <td>137.000000</td>\n      <td>1.000000</td>\n      <td>0.00000</td>\n      <td>115.000000</td>\n      <td>0.00000</td>\n    </tr>\n    <tr>\n      <th>75%</th>\n      <td>70.000000</td>\n      <td>1.000000</td>\n      <td>582.000000</td>\n      <td>1.000000</td>\n      <td>45.000000</td>\n      <td>1.000000</td>\n      <td>303500.000000</td>\n      <td>1.40000</td>\n      <td>140.000000</td>\n      <td>1.000000</td>\n      <td>1.00000</td>\n      <td>203.000000</td>\n      <td>1.00000</td>\n    </tr>\n    <tr>\n      <th>max</th>\n      <td>95.000000</td>\n      <td>1.000000</td>\n      <td>7861.000000</td>\n      <td>1.000000</td>\n      <td>80.000000</td>\n      <td>1.000000</td>\n      <td>850000.000000</td>\n      <td>9.40000</td>\n      <td>148.000000</td>\n      <td>1.000000</td>\n      <td>1.00000</td>\n      <td>285.000000</td>\n      <td>1.00000</td>\n    </tr>\n  </tbody>\n</table>\n</div>"
          },
          "metadata": {}
        }
      ],
      "execution_count": 5,
      "metadata": {
        "collapsed": true,
        "jupyter": {
          "source_hidden": false,
          "outputs_hidden": false
        },
        "nteract": {
          "transient": {
            "deleting": false
          }
        },
        "gather": {
          "logged": 1619338896008
        }
      }
    },
    {
      "cell_type": "markdown",
      "source": [
        "## AutoML Configuration\n",
        "\n",
        "TODO: Explain why you chose the automl settings and cofiguration you used below."
      ],
      "metadata": {}
    },
    {
      "cell_type": "code",
      "source": [
        "# TODO: Put your automl settings here\n",
        "automl_settings = { \"n_cross_validations\": 2,\n",
        "                    \"primary_metric\": 'accuracy',\n",
        "                    \"enable_early_stopping\": True,\n",
        "                    \"max_concurrent_iterations\": 4,\n",
        "                    \"experiment_timeout_minutes\": 15,\n",
        "                }\n",
        "\n",
        "# TODO: Put your automl config here\n",
        "automl_config = AutoMLConfig(compute_target = compute_target,\n",
        "                            task='classification',\n",
        "                            training_data=heart_failure_ds,\n",
        "                            label_column_name='DEATH_EVENT',\n",
        "                            path = 'automl_runs',\n",
        "                            featurization= 'auto',\n",
        "                            debug_log = \"automl_errors.log\",\n",
        "                            enable_onnx_compatible_models=True,\n",
        "                            **automl_settings)"
      ],
      "outputs": [],
      "execution_count": 6,
      "metadata": {
        "gather": {
          "logged": 1619338896100
        },
        "jupyter": {
          "outputs_hidden": false,
          "source_hidden": false
        },
        "nteract": {
          "transient": {
            "deleting": false
          }
        }
      }
    },
    {
      "cell_type": "code",
      "source": [
        "# Submit your experiment\n",
        "automl_run = experiment.submit(automl_config, show_output=True)\n",
        "automl_run.wait_for_completion()\n",
        "\n",
        "print(f\"Run Status: {automl_run.get_status()}\")"
      ],
      "outputs": [
        {
          "output_type": "stream",
          "name": "stdout",
          "text": [
            "Submitting remote run.\n",
            "No run_configuration provided, running on MLAzureCapstoneCompute with default configuration\n",
            "Running on remote compute: MLAzureCapstoneCompute\n"
          ]
        },
        {
          "output_type": "display_data",
          "data": {
            "text/plain": "<IPython.core.display.HTML object>",
            "text/html": "<table style=\"width:100%\"><tr><th>Experiment</th><th>Id</th><th>Type</th><th>Status</th><th>Details Page</th><th>Docs Page</th></tr><tr><td>capstone-heart-failure-prediction</td><td>AutoML_99f14971-4f03-446c-aed7-c4fd72ad11a7</td><td>automl</td><td>NotStarted</td><td><a href=\"https://ml.azure.com/runs/AutoML_99f14971-4f03-446c-aed7-c4fd72ad11a7?wsid=/subscriptions/ca1598e0-85dc-47d5-b06d-41b5342b4989/resourcegroups/UdacityMLAzureCapstone/workspaces/ws_udacity_capstone&amp;tid=3814e260-63cb-43a8-82ce-e862c309e004\" target=\"_blank\" rel=\"noopener\">Link to Azure Machine Learning studio</a></td><td><a href=\"https://docs.microsoft.com/en-us/python/api/overview/azure/ml/intro?view=azure-ml-py\" target=\"_blank\" rel=\"noopener\">Link to Documentation</a></td></tr></table>"
          },
          "metadata": {}
        },
        {
          "output_type": "stream",
          "name": "stdout",
          "text": [
            "\n",
            "Current status: FeaturesGeneration. Generating features for the dataset.\n",
            "Current status: DatasetCrossValidationSplit. Generating individually featurized CV splits.\n",
            "Current status: ModelSelection. Beginning model selection.\n",
            "\n",
            "****************************************************************************************************\n",
            "DATA GUARDRAILS: \n",
            "\n",
            "TYPE:         Class balancing detection\n",
            "STATUS:       PASSED\n",
            "DESCRIPTION:  Your inputs were analyzed, and all classes are balanced in your training data.\n",
            "              Learn more about imbalanced data: https://aka.ms/AutomatedMLImbalancedData\n",
            "\n",
            "****************************************************************************************************\n",
            "\n",
            "TYPE:         Missing feature values imputation\n",
            "STATUS:       PASSED\n",
            "DESCRIPTION:  No feature missing values were detected in the training data.\n",
            "              Learn more about missing value imputation: https://aka.ms/AutomatedMLFeaturization\n",
            "\n",
            "****************************************************************************************************\n",
            "\n",
            "TYPE:         High cardinality feature detection\n",
            "STATUS:       PASSED\n",
            "DESCRIPTION:  Your inputs were analyzed, and no high cardinality features were detected.\n",
            "              Learn more about high cardinality feature handling: https://aka.ms/AutomatedMLFeaturization\n",
            "\n",
            "****************************************************************************************************\n",
            "\n",
            "****************************************************************************************************\n",
            "ITERATION: The iteration being evaluated.\n",
            "PIPELINE: A summary description of the pipeline being evaluated.\n",
            "DURATION: Time taken for the current iteration.\n",
            "METRIC: The result of computing score on the fitted pipeline.\n",
            "BEST: The best observed score thus far.\n",
            "****************************************************************************************************\n",
            "\n",
            " ITERATION   PIPELINE                                       DURATION      METRIC      BEST\n",
            "         0   MaxAbsScaler LightGBM                          0:00:43       0.8127    0.8127\n",
            "         1   MaxAbsScaler XGBoostClassifier                 0:00:42       0.8027    0.8127\n",
            "         3   MinMaxScaler RandomForest                      0:00:40       0.8093    0.8127\n",
            "         2   MinMaxScaler RandomForest                      0:00:48       0.8160    0.8160\n",
            "         4   MinMaxScaler RandomForest                      0:00:38       0.8495    0.8495\n",
            "         5   MinMaxScaler SVM                               0:00:42       0.6956    0.8495\n",
            "         6   MinMaxScaler SVM                               0:00:46       0.6856    0.8495\n",
            "         7   SparseNormalizer XGBoostClassifier             0:00:40       0.7826    0.8495\n",
            "        11   MaxAbsScaler GradientBoosting                  0:00:39       0.8361    0.8495\n",
            "         8   SparseNormalizer XGBoostClassifier             0:00:40       0.7959    0.8495\n",
            "         9   RobustScaler SVM                               0:00:39       0.7223    0.8495\n",
            "        10   StandardScalerWrapper LightGBM                 0:00:46       0.8261    0.8495\n",
            "        12   StandardScalerWrapper LightGBM                 0:00:40       0.8395    0.8495\n",
            "        13   MinMaxScaler LightGBM                          0:00:39       0.7960    0.8495\n",
            "        14   MaxAbsScaler LightGBM                          0:00:44       0.7692    0.8495\n",
            "        15   StandardScalerWrapper LightGBM                 0:01:07       0.8395    0.8495\n",
            "        16   SparseNormalizer XGBoostClassifier             0:00:54       0.8026    0.8495\n",
            "        17   MaxAbsScaler LightGBM                          0:00:53       0.8362    0.8495\n",
            "        18   SparseNormalizer XGBoostClassifier             0:00:50       0.7960    0.8495\n",
            "        19   StandardScalerWrapper LightGBM                 0:00:48       0.7191    0.8495\n",
            "        21   RobustScaler LightGBM                          0:00:40       0.7659    0.8495\n",
            "        20   SparseNormalizer XGBoostClassifier             0:00:42       0.7893    0.8495\n",
            "        22   StandardScalerWrapper XGBoostClassifier        0:00:39       0.8428    0.8495\n",
            "        23   StandardScalerWrapper ExtremeRandomTrees       0:00:51       0.8429    0.8495\n",
            "        24   StandardScalerWrapper RandomForest             0:00:53       0.8092    0.8495\n",
            "        25   TruncatedSVDWrapper RandomForest               0:00:55       0.6789    0.8495\n",
            "        26   StandardScalerWrapper LightGBM                 0:00:54       0.8394    0.8495\n",
            "        27   StandardScalerWrapper XGBoostClassifier        0:00:49       0.8194    0.8495\n",
            "        28   TruncatedSVDWrapper XGBoostClassifier          0:00:40       0.7658    0.8495\n",
            "        29   MaxAbsScaler RandomForest                      0:00:29       0.8395    0.8495\n",
            "        30   RobustScaler RandomForest                      0:00:39       0.8160    0.8495\n",
            "        31   StandardScalerWrapper XGBoostClassifier        0:00:45       0.8394    0.8495\n",
            "        32   RobustScaler RandomForest                      0:00:40       0.8528    0.8528\n",
            "        33   RobustScaler RandomForest                      0:00:37       0.8528    0.8528\n",
            "        34   SparseNormalizer XGBoostClassifier             0:01:17       0.8194    0.8528\n",
            "        35   RobustScaler RandomForest                      0:01:16       0.8126    0.8528\n",
            "        36   MinMaxScaler LogisticRegression                0:01:12       0.7959    0.8528\n",
            "        37   RobustScaler RandomForest                      0:01:09       0.8361    0.8528\n",
            "        38   StandardScalerWrapper RandomForest             0:00:48       0.8327    0.8528\n",
            "        39   SparseNormalizer RandomForest                  0:01:02       0.8127    0.8528\n",
            "        40   PCA RandomForest                               0:01:00       0.5686    0.8528\n",
            "        41   RobustScaler RandomForest                      0:01:00       0.8427    0.8528\n",
            "        42   RobustScaler LightGBM                          0:00:59       0.8395    0.8528\n",
            "        43   StandardScalerWrapper XGBoostClassifier        0:00:58       0.8294    0.8528\n",
            "        44   MinMaxScaler LightGBM                          0:00:58       0.8227    0.8528\n",
            "        45   MaxAbsScaler RandomForest                      0:00:59       0.8060    0.8528\n",
            "        46   StandardScalerWrapper RandomForest             0:00:49       0.8461    0.8528\n",
            "        47    VotingEnsemble                                0:01:08       0.8629    0.8629\n",
            "Run Status: Completed\n"
          ]
        }
      ],
      "execution_count": 7,
      "metadata": {
        "gather": {
          "logged": 1619339989832
        },
        "jupyter": {
          "outputs_hidden": false,
          "source_hidden": false
        },
        "nteract": {
          "transient": {
            "deleting": false
          }
        }
      }
    },
    {
      "cell_type": "markdown",
      "source": [
        "## Run Details"
      ],
      "metadata": {}
    },
    {
      "cell_type": "code",
      "source": [
        "RunDetails(automl_run).show()"
      ],
      "outputs": [
        {
          "output_type": "display_data",
          "data": {
            "text/plain": "_AutoMLWidget(widget_settings={'childWidgetDisplay': 'popup', 'send_telemetry': False, 'log_level': 'INFO', 's…",
            "application/vnd.jupyter.widget-view+json": {
              "version_major": 2,
              "version_minor": 0,
              "model_id": "6b3ab374fa214da6a7b6eb01125f992f"
            }
          },
          "metadata": {}
        },
        {
          "output_type": "display_data",
          "data": {
            "application/aml.mini.widget.v1": "{\"status\": \"Completed\", \"workbench_run_details_uri\": \"https://ml.azure.com/runs/AutoML_99f14971-4f03-446c-aed7-c4fd72ad11a7?wsid=/subscriptions/ca1598e0-85dc-47d5-b06d-41b5342b4989/resourcegroups/UdacityMLAzureCapstone/workspaces/ws_udacity_capstone&tid=3814e260-63cb-43a8-82ce-e862c309e004\", \"run_id\": \"AutoML_99f14971-4f03-446c-aed7-c4fd72ad11a7\", \"run_properties\": {\"run_id\": \"AutoML_99f14971-4f03-446c-aed7-c4fd72ad11a7\", \"created_utc\": \"2021-04-25T08:21:41.822265Z\", \"properties\": {\"num_iterations\": \"1000\", \"training_type\": \"TrainFull\", \"acquisition_function\": \"EI\", \"primary_metric\": \"accuracy\", \"train_split\": \"0\", \"acquisition_parameter\": \"0\", \"num_cross_validation\": \"2\", \"target\": \"MLAzureCapstoneCompute\", \"AMLSettingsJsonString\": \"{\\\"path\\\":null,\\\"name\\\":\\\"capstone-heart-failure-prediction\\\",\\\"subscription_id\\\":\\\"ca1598e0-85dc-47d5-b06d-41b5342b4989\\\",\\\"resource_group\\\":\\\"UdacityMLAzureCapstone\\\",\\\"workspace_name\\\":\\\"ws_udacity_capstone\\\",\\\"region\\\":\\\"eastus2\\\",\\\"compute_target\\\":\\\"MLAzureCapstoneCompute\\\",\\\"spark_service\\\":null,\\\"azure_service\\\":\\\"remote\\\",\\\"many_models\\\":false,\\\"pipeline_fetch_max_batch_size\\\":1,\\\"enable_batch_run\\\":false,\\\"enable_run_restructure\\\":false,\\\"iterations\\\":1000,\\\"primary_metric\\\":\\\"accuracy\\\",\\\"task_type\\\":\\\"classification\\\",\\\"data_script\\\":null,\\\"test_size\\\":0.0,\\\"validation_size\\\":0.0,\\\"n_cross_validations\\\":2,\\\"y_min\\\":null,\\\"y_max\\\":null,\\\"num_classes\\\":null,\\\"featurization\\\":\\\"auto\\\",\\\"_ignore_package_version_incompatibilities\\\":false,\\\"is_timeseries\\\":false,\\\"max_cores_per_iteration\\\":1,\\\"max_concurrent_iterations\\\":4,\\\"iteration_timeout_minutes\\\":null,\\\"mem_in_mb\\\":null,\\\"enforce_time_on_windows\\\":false,\\\"experiment_timeout_minutes\\\":15,\\\"experiment_exit_score\\\":null,\\\"whitelist_models\\\":null,\\\"blacklist_algos\\\":[\\\"TensorFlowLinearClassifier\\\",\\\"TensorFlowDNN\\\"],\\\"supported_models\\\":[\\\"TensorFlowLinearClassifier\\\",\\\"LightGBM\\\",\\\"AveragedPerceptronClassifier\\\",\\\"KNN\\\",\\\"LinearSVM\\\",\\\"TensorFlowDNN\\\",\\\"BernoulliNaiveBayes\\\",\\\"ExtremeRandomTrees\\\",\\\"GradientBoosting\\\",\\\"RandomForest\\\",\\\"MultinomialNaiveBayes\\\",\\\"LogisticRegression\\\",\\\"XGBoostClassifier\\\",\\\"SGD\\\",\\\"DecisionTree\\\",\\\"SVM\\\"],\\\"private_models\\\":[],\\\"auto_blacklist\\\":true,\\\"blacklist_samples_reached\\\":false,\\\"exclude_nan_labels\\\":true,\\\"verbosity\\\":20,\\\"_debug_log\\\":\\\"azureml_automl.log\\\",\\\"show_warnings\\\":false,\\\"model_explainability\\\":true,\\\"service_url\\\":null,\\\"sdk_url\\\":null,\\\"sdk_packages\\\":null,\\\"enable_onnx_compatible_models\\\":true,\\\"enable_split_onnx_featurizer_estimator_models\\\":false,\\\"vm_type\\\":\\\"STANDARD_DS3_V2\\\",\\\"telemetry_verbosity\\\":20,\\\"send_telemetry\\\":true,\\\"enable_dnn\\\":false,\\\"scenario\\\":\\\"SDK-1.13.0\\\",\\\"environment_label\\\":null,\\\"save_mlflow\\\":false,\\\"force_text_dnn\\\":false,\\\"enable_feature_sweeping\\\":false,\\\"enable_early_stopping\\\":true,\\\"early_stopping_n_iters\\\":10,\\\"metrics\\\":null,\\\"enable_metric_confidence\\\":false,\\\"enable_ensembling\\\":true,\\\"enable_stack_ensembling\\\":false,\\\"ensemble_iterations\\\":15,\\\"enable_tf\\\":false,\\\"enable_subsampling\\\":null,\\\"subsample_seed\\\":null,\\\"enable_nimbusml\\\":false,\\\"enable_streaming\\\":false,\\\"force_streaming\\\":false,\\\"track_child_runs\\\":true,\\\"allowed_private_models\\\":[],\\\"label_column_name\\\":\\\"DEATH_EVENT\\\",\\\"weight_column_name\\\":null,\\\"cv_split_column_names\\\":null,\\\"enable_local_managed\\\":false,\\\"_local_managed_run_id\\\":null,\\\"cost_mode\\\":1,\\\"lag_length\\\":0,\\\"metric_operation\\\":\\\"maximize\\\",\\\"preprocess\\\":true}\", \"DataPrepJsonString\": \"{\\\\\\\"training_data\\\\\\\": {\\\\\\\"datasetId\\\\\\\": \\\\\\\"7ee67736-3a82-4ce4-9985-ab4c14728343\\\\\\\"}, \\\\\\\"datasets\\\\\\\": 0}\", \"EnableSubsampling\": null, \"runTemplate\": \"AutoML\", \"azureml.runsource\": \"automl\", \"display_task_type\": \"classification\", \"dependencies_versions\": \"{\\\"azureml-widgets\\\": \\\"1.26.0\\\", \\\"azureml-train\\\": \\\"1.26.0\\\", \\\"azureml-train-restclients-hyperdrive\\\": \\\"1.26.0\\\", \\\"azureml-train-core\\\": \\\"1.26.0\\\", \\\"azureml-train-automl\\\": \\\"1.26.0\\\", \\\"azureml-train-automl-runtime\\\": \\\"1.26.0\\\", \\\"azureml-train-automl-client\\\": \\\"1.26.0\\\", \\\"azureml-tensorboard\\\": \\\"1.26.0\\\", \\\"azureml-telemetry\\\": \\\"1.26.0\\\", \\\"azureml-sdk\\\": \\\"1.26.0\\\", \\\"azureml-samples\\\": \\\"0+unknown\\\", \\\"azureml-pipeline\\\": \\\"1.26.0\\\", \\\"azureml-pipeline-steps\\\": \\\"1.26.0\\\", \\\"azureml-pipeline-core\\\": \\\"1.26.0\\\", \\\"azureml-opendatasets\\\": \\\"1.26.0\\\", \\\"azureml-model-management-sdk\\\": \\\"1.0.1b6.post1\\\", \\\"azureml-mlflow\\\": \\\"1.26.0\\\", \\\"azureml-interpret\\\": \\\"1.26.0\\\", \\\"azureml-explain-model\\\": \\\"1.26.0\\\", \\\"azureml-defaults\\\": \\\"1.26.0\\\", \\\"azureml-dataset-runtime\\\": \\\"1.26.0\\\", \\\"azureml-dataprep\\\": \\\"2.13.2\\\", \\\"azureml-dataprep-rslex\\\": \\\"1.11.2\\\", \\\"azureml-dataprep-native\\\": \\\"32.0.0\\\", \\\"azureml-datadrift\\\": \\\"1.26.0\\\", \\\"azureml-core\\\": \\\"1.26.0\\\", \\\"azureml-contrib-services\\\": \\\"1.26.0\\\", \\\"azureml-contrib-server\\\": \\\"1.26.0\\\", \\\"azureml-contrib-reinforcementlearning\\\": \\\"1.26.0\\\", \\\"azureml-contrib-pipeline-steps\\\": \\\"1.26.0\\\", \\\"azureml-contrib-notebook\\\": \\\"1.26.0\\\", \\\"azureml-contrib-gbdt\\\": \\\"1.26.0\\\", \\\"azureml-contrib-fairness\\\": \\\"1.26.0\\\", \\\"azureml-contrib-dataset\\\": \\\"1.26.0\\\", \\\"azureml-cli-common\\\": \\\"1.26.0\\\", \\\"azureml-automl-runtime\\\": \\\"1.26.0\\\", \\\"azureml-automl-dnn-nlp\\\": \\\"1.26.0\\\", \\\"azureml-automl-core\\\": \\\"1.26.0\\\", \\\"azureml-accel-models\\\": \\\"1.26.0\\\"}\", \"_aml_system_scenario_identification\": \"Remote.Parent\", \"ClientType\": \"SDK\", \"environment_cpu_name\": \"AzureML-AutoML\", \"environment_cpu_label\": \"prod\", \"environment_gpu_name\": \"AzureML-AutoML-GPU\", \"environment_gpu_label\": \"prod\", \"root_attribution\": \"automl\", \"attribution\": \"AutoML\", \"Orchestrator\": \"AutoML\", \"CancelUri\": \"https://eastus2.api.azureml.ms/jasmine/v1.0/subscriptions/ca1598e0-85dc-47d5-b06d-41b5342b4989/resourceGroups/UdacityMLAzureCapstone/providers/Microsoft.MachineLearningServices/workspaces/ws_udacity_capstone/experimentids/30f8174b-da03-42f2-935d-b2c558b382dc/cancel/AutoML_99f14971-4f03-446c-aed7-c4fd72ad11a7\", \"ClientSdkVersion\": \"1.27.0.post1\", \"snapshotId\": \"00000000-0000-0000-0000-000000000000\", \"SetupRunId\": \"AutoML_99f14971-4f03-446c-aed7-c4fd72ad11a7_setup\", \"SetupRunContainerId\": \"dcid.AutoML_99f14971-4f03-446c-aed7-c4fd72ad11a7_setup\", \"FeaturizationRunJsonPath\": \"featurizer_container.json\", \"FeaturizationRunId\": \"AutoML_99f14971-4f03-446c-aed7-c4fd72ad11a7_featurize\", \"ProblemInfoJsonString\": \"{\\\"dataset_num_categorical\\\": 0, \\\"is_sparse\\\": false, \\\"subsampling\\\": false, \\\"dataset_classes\\\": 2, \\\"dataset_features\\\": 12, \\\"dataset_samples\\\": 299, \\\"single_frequency_class_detected\\\": false}\", \"ModelExplainRunId\": \"AutoML_99f14971-4f03-446c-aed7-c4fd72ad11a7_ModelExplain\"}, \"tags\": {\"model_explain_run\": \"best_run\", \"_aml_system_azureml.automlComponent\": \"AutoML\", \"pipeline_id\": \"\", \"score\": \"\", \"predicted_cost\": \"\", \"fit_time\": \"\", \"training_percent\": \"\", \"iteration\": \"\", \"run_preprocessor\": \"\", \"run_algorithm\": \"\", \"dynamic_whitelisting_iterations\": \"<25>;<29>;<35>;<40>;<45>;\", \"automl_best_child_run_id\": \"AutoML_99f14971-4f03-446c-aed7-c4fd72ad11a7_47\", \"model_explain_best_run_child_id\": \"AutoML_99f14971-4f03-446c-aed7-c4fd72ad11a7_47\"}, \"end_time_utc\": \"2021-04-25T08:39:36.505062Z\", \"status\": \"Completed\", \"log_files\": {}, \"log_groups\": [], \"run_duration\": \"0:17:54\", \"run_number\": \"72\", \"run_queued_details\": {\"status\": \"Completed\", \"details\": null}}, \"child_runs\": [{\"run_id\": \"AutoML_99f14971-4f03-446c-aed7-c4fd72ad11a7_0\", \"run_number\": 76, \"metric\": null, \"status\": \"Completed\", \"run_type\": \"azureml.scriptrun\", \"training_percent\": \"100\", \"start_time\": \"2021-04-25T08:25:33.796008Z\", \"end_time\": \"2021-04-25T08:26:16.8598Z\", \"created_time\": \"2021-04-25T08:25:23.084482Z\", \"created_time_dt\": \"2021-04-25T08:25:23.084482Z\", \"duration\": \"0:00:53\", \"iteration\": \"0\", \"goal\": \"accuracy_max\", \"run_name\": \"MaxAbsScaler, LightGBM\", \"run_properties\": \"copy=True\", \"primary_metric\": 0.81270694, \"best_metric\": 0.81270694}, {\"run_id\": \"AutoML_99f14971-4f03-446c-aed7-c4fd72ad11a7_1\", \"run_number\": 77, \"metric\": null, \"status\": \"Completed\", \"run_type\": \"azureml.scriptrun\", \"training_percent\": \"100\", \"start_time\": \"2021-04-25T08:25:34.855204Z\", \"end_time\": \"2021-04-25T08:26:16.904464Z\", \"created_time\": \"2021-04-25T08:25:23.102683Z\", \"created_time_dt\": \"2021-04-25T08:25:23.102683Z\", \"duration\": \"0:00:53\", \"iteration\": \"1\", \"goal\": \"accuracy_max\", \"run_name\": \"MaxAbsScaler, XGBoostClassifier\", \"run_properties\": \"copy=True\", \"primary_metric\": 0.80266219, \"best_metric\": 0.81270694}, {\"run_id\": \"AutoML_99f14971-4f03-446c-aed7-c4fd72ad11a7_2\", \"run_number\": 78, \"metric\": null, \"status\": \"Completed\", \"run_type\": \"azureml.scriptrun\", \"training_percent\": \"100\", \"start_time\": \"2021-04-25T08:25:33.891289Z\", \"end_time\": \"2021-04-25T08:26:21.9292Z\", \"created_time\": \"2021-04-25T08:25:23.113175Z\", \"created_time_dt\": \"2021-04-25T08:25:23.113175Z\", \"duration\": \"0:00:58\", \"iteration\": \"2\", \"goal\": \"accuracy_max\", \"run_name\": \"MinMaxScaler, RandomForest\", \"run_properties\": \"copy=True, feature_range=(0, 1\", \"primary_metric\": 0.81599553, \"best_metric\": 0.81599553}, {\"run_id\": \"AutoML_99f14971-4f03-446c-aed7-c4fd72ad11a7_3\", \"run_number\": 79, \"metric\": null, \"status\": \"Completed\", \"run_type\": \"azureml.scriptrun\", \"training_percent\": \"100\", \"start_time\": \"2021-04-25T08:25:35.290218Z\", \"end_time\": \"2021-04-25T08:26:15.379135Z\", \"created_time\": \"2021-04-25T08:25:23.407207Z\", \"created_time_dt\": \"2021-04-25T08:25:23.407207Z\", \"duration\": \"0:00:51\", \"iteration\": \"3\", \"goal\": \"accuracy_max\", \"run_name\": \"MinMaxScaler, RandomForest\", \"run_properties\": \"copy=True, feature_range=(0, 1\", \"primary_metric\": 0.80930649, \"best_metric\": 0.81599553}, {\"run_id\": \"AutoML_99f14971-4f03-446c-aed7-c4fd72ad11a7_4\", \"run_number\": 80, \"metric\": null, \"status\": \"Completed\", \"run_type\": \"azureml.scriptrun\", \"training_percent\": \"100\", \"start_time\": \"2021-04-25T08:26:33.132629Z\", \"end_time\": \"2021-04-25T08:27:11.116484Z\", \"created_time\": \"2021-04-25T08:26:19.837993Z\", \"created_time_dt\": \"2021-04-25T08:26:19.837993Z\", \"duration\": \"0:00:51\", \"iteration\": \"4\", \"goal\": \"accuracy_max\", \"run_name\": \"MinMaxScaler, RandomForest\", \"run_properties\": \"copy=True, feature_range=(0, 1\", \"primary_metric\": 0.84948546, \"best_metric\": 0.84948546}, {\"run_id\": \"AutoML_99f14971-4f03-446c-aed7-c4fd72ad11a7_5\", \"run_number\": 81, \"metric\": null, \"status\": \"Completed\", \"run_type\": \"azureml.scriptrun\", \"training_percent\": \"100\", \"start_time\": \"2021-04-25T08:26:37.438474Z\", \"end_time\": \"2021-04-25T08:27:19.708793Z\", \"created_time\": \"2021-04-25T08:26:25.332134Z\", \"created_time_dt\": \"2021-04-25T08:26:25.332134Z\", \"duration\": \"0:00:54\", \"iteration\": \"5\", \"goal\": \"accuracy_max\", \"run_name\": \"MinMaxScaler, SVM\", \"run_properties\": \"copy=True, feature_range=(0, 1\", \"primary_metric\": 0.69557047, \"best_metric\": 0.84948546}, {\"run_id\": \"AutoML_99f14971-4f03-446c-aed7-c4fd72ad11a7_6\", \"run_number\": 82, \"metric\": null, \"status\": \"Completed\", \"run_type\": \"azureml.scriptrun\", \"training_percent\": \"100\", \"start_time\": \"2021-04-25T08:26:37.370382Z\", \"end_time\": \"2021-04-25T08:27:23.007316Z\", \"created_time\": \"2021-04-25T08:26:25.3404Z\", \"created_time_dt\": \"2021-04-25T08:26:25.3404Z\", \"duration\": \"0:00:57\", \"iteration\": \"6\", \"goal\": \"accuracy_max\", \"run_name\": \"MinMaxScaler, SVM\", \"run_properties\": \"copy=True, feature_range=(0, 1\", \"primary_metric\": 0.68559284, \"best_metric\": 0.84948546}, {\"run_id\": \"AutoML_99f14971-4f03-446c-aed7-c4fd72ad11a7_7\", \"run_number\": 83, \"metric\": null, \"status\": \"Completed\", \"run_type\": \"azureml.scriptrun\", \"training_percent\": \"100\", \"start_time\": \"2021-04-25T08:26:35.450443Z\", \"end_time\": \"2021-04-25T08:27:15.10786Z\", \"created_time\": \"2021-04-25T08:26:25.354093Z\", \"created_time_dt\": \"2021-04-25T08:26:25.354093Z\", \"duration\": \"0:00:49\", \"iteration\": \"7\", \"goal\": \"accuracy_max\", \"run_name\": \"SparseNormalizer, XGBoostClassifier\", \"run_properties\": \"<azureml.automl.runtime.shared.model_wrappers.SparseNormalizer object at 0x7fc15ac5edd8\", \"primary_metric\": 0.78257271, \"best_metric\": 0.84948546}, {\"run_id\": \"AutoML_99f14971-4f03-446c-aed7-c4fd72ad11a7_8\", \"run_number\": 84, \"metric\": null, \"status\": \"Completed\", \"run_type\": \"azureml.scriptrun\", \"training_percent\": \"100\", \"start_time\": \"2021-04-25T08:27:25.274814Z\", \"end_time\": \"2021-04-25T08:28:05.711069Z\", \"created_time\": \"2021-04-25T08:27:13.375663Z\", \"created_time_dt\": \"2021-04-25T08:27:13.375663Z\", \"duration\": \"0:00:52\", \"iteration\": \"8\", \"goal\": \"accuracy_max\", \"run_name\": \"SparseNormalizer, XGBoostClassifier\", \"run_properties\": \"<azureml.automl.runtime.shared.model_wrappers.SparseNormalizer object at 0x7f6ebfdb2a20\", \"primary_metric\": 0.79592841, \"best_metric\": 0.84948546}, {\"run_id\": \"AutoML_99f14971-4f03-446c-aed7-c4fd72ad11a7_9\", \"run_number\": 85, \"metric\": null, \"status\": \"Completed\", \"run_type\": \"azureml.scriptrun\", \"training_percent\": \"100\", \"start_time\": \"2021-04-25T08:27:26.641091Z\", \"end_time\": \"2021-04-25T08:28:05.303992Z\", \"created_time\": \"2021-04-25T08:27:19.105598Z\", \"created_time_dt\": \"2021-04-25T08:27:19.105598Z\", \"duration\": \"0:00:46\", \"iteration\": \"9\", \"goal\": \"accuracy_max\", \"run_name\": \"RobustScaler, SVM\", \"run_properties\": \"copy=True, quantile_range=[10, 90], with_centering=True,\\n             with_scaling=True\", \"primary_metric\": 0.72232662, \"best_metric\": 0.84948546}, {\"run_id\": \"AutoML_99f14971-4f03-446c-aed7-c4fd72ad11a7_10\", \"run_number\": 86, \"metric\": null, \"status\": \"Completed\", \"run_type\": \"azureml.scriptrun\", \"training_percent\": \"100\", \"start_time\": \"2021-04-25T08:27:31.234189Z\", \"end_time\": \"2021-04-25T08:28:17.496985Z\", \"created_time\": \"2021-04-25T08:27:21.611001Z\", \"created_time_dt\": \"2021-04-25T08:27:21.611001Z\", \"duration\": \"0:00:55\", \"iteration\": \"10\", \"goal\": \"accuracy_max\", \"run_name\": \"StandardScalerWrapper, LightGBM\", \"run_properties\": \"<azureml.automl.runtime.shared.model_wrappers.StandardScalerWrapper object at 0x7fd0dab94c50\", \"primary_metric\": 0.82606264, \"best_metric\": 0.84948546}, {\"run_id\": \"AutoML_99f14971-4f03-446c-aed7-c4fd72ad11a7_11\", \"run_number\": 87, \"metric\": null, \"status\": \"Completed\", \"run_type\": \"azureml.scriptrun\", \"training_percent\": \"100\", \"start_time\": \"2021-04-25T08:27:32.279565Z\", \"end_time\": \"2021-04-25T08:28:11.01072Z\", \"created_time\": \"2021-04-25T08:27:24.775125Z\", \"created_time_dt\": \"2021-04-25T08:27:24.775125Z\", \"duration\": \"0:00:46\", \"iteration\": \"11\", \"goal\": \"accuracy_max\", \"run_name\": \"MaxAbsScaler, GradientBoosting\", \"run_properties\": \"copy=True\", \"primary_metric\": 0.83610738, \"best_metric\": 0.84948546}, {\"run_id\": \"AutoML_99f14971-4f03-446c-aed7-c4fd72ad11a7_12\", \"run_number\": 88, \"metric\": null, \"status\": \"Completed\", \"run_type\": \"azureml.scriptrun\", \"training_percent\": \"100\", \"start_time\": \"2021-04-25T08:28:18.382183Z\", \"end_time\": \"2021-04-25T08:28:58.40831Z\", \"created_time\": \"2021-04-25T08:28:07.159758Z\", \"created_time_dt\": \"2021-04-25T08:28:07.159758Z\", \"duration\": \"0:00:51\", \"iteration\": \"12\", \"goal\": \"accuracy_max\", \"run_name\": \"StandardScalerWrapper, LightGBM\", \"run_properties\": \"<azureml.automl.runtime.shared.model_wrappers.StandardScalerWrapper object at 0x7f5bd7433b70\", \"primary_metric\": 0.83946309, \"best_metric\": 0.84948546}, {\"run_id\": \"AutoML_99f14971-4f03-446c-aed7-c4fd72ad11a7_13\", \"run_number\": 89, \"metric\": null, \"status\": \"Completed\", \"run_type\": \"azureml.scriptrun\", \"training_percent\": \"100\", \"start_time\": \"2021-04-25T08:28:18.37761Z\", \"end_time\": \"2021-04-25T08:28:57.780245Z\", \"created_time\": \"2021-04-25T08:28:07.190247Z\", \"created_time_dt\": \"2021-04-25T08:28:07.190247Z\", \"duration\": \"0:00:50\", \"iteration\": \"13\", \"goal\": \"accuracy_max\", \"run_name\": \"MinMaxScaler, LightGBM\", \"run_properties\": \"copy=True, feature_range=(0, 1\", \"primary_metric\": 0.7960179, \"best_metric\": 0.84948546}, {\"run_id\": \"AutoML_99f14971-4f03-446c-aed7-c4fd72ad11a7_14\", \"run_number\": 90, \"metric\": null, \"status\": \"Completed\", \"run_type\": \"azureml.scriptrun\", \"training_percent\": \"100\", \"start_time\": \"2021-04-25T08:28:20.889619Z\", \"end_time\": \"2021-04-25T08:29:05.057542Z\", \"created_time\": \"2021-04-25T08:28:12.701201Z\", \"created_time_dt\": \"2021-04-25T08:28:12.701201Z\", \"duration\": \"0:00:52\", \"iteration\": \"14\", \"goal\": \"accuracy_max\", \"run_name\": \"MaxAbsScaler, LightGBM\", \"run_properties\": \"copy=True\", \"primary_metric\": 0.76923937, \"best_metric\": 0.84948546}, {\"run_id\": \"AutoML_99f14971-4f03-446c-aed7-c4fd72ad11a7_15\", \"run_number\": 91, \"metric\": null, \"status\": \"Completed\", \"run_type\": \"azureml.scriptrun\", \"training_percent\": \"100\", \"start_time\": \"2021-04-25T08:28:29.7663Z\", \"end_time\": \"2021-04-25T08:29:36.456664Z\", \"created_time\": \"2021-04-25T08:28:19.300475Z\", \"created_time_dt\": \"2021-04-25T08:28:19.300475Z\", \"duration\": \"0:01:17\", \"iteration\": \"15\", \"goal\": \"accuracy_max\", \"run_name\": \"StandardScalerWrapper, LightGBM\", \"run_properties\": \"<azureml.automl.runtime.shared.model_wrappers.StandardScalerWrapper object at 0x7fec542b0f98\", \"primary_metric\": 0.83946309, \"best_metric\": 0.84948546}, {\"run_id\": \"AutoML_99f14971-4f03-446c-aed7-c4fd72ad11a7_16\", \"run_number\": 92, \"metric\": null, \"status\": \"Completed\", \"run_type\": \"azureml.scriptrun\", \"training_percent\": \"100\", \"start_time\": \"2021-04-25T08:29:07.496828Z\", \"end_time\": \"2021-04-25T08:30:01.621296Z\", \"created_time\": \"2021-04-25T08:28:59.692107Z\", \"created_time_dt\": \"2021-04-25T08:28:59.692107Z\", \"duration\": \"0:01:01\", \"iteration\": \"16\", \"goal\": \"accuracy_max\", \"run_name\": \"SparseNormalizer, XGBoostClassifier\", \"run_properties\": \"<azureml.automl.runtime.shared.model_wrappers.SparseNormalizer object at 0x7ff69e40b198\", \"primary_metric\": 0.80257271, \"best_metric\": 0.84948546}, {\"run_id\": \"AutoML_99f14971-4f03-446c-aed7-c4fd72ad11a7_17\", \"run_number\": 93, \"metric\": null, \"status\": \"Completed\", \"run_type\": \"azureml.scriptrun\", \"training_percent\": \"100\", \"start_time\": \"2021-04-25T08:29:12.660227Z\", \"end_time\": \"2021-04-25T08:30:05.761931Z\", \"created_time\": \"2021-04-25T08:29:04.604264Z\", \"created_time_dt\": \"2021-04-25T08:29:04.604264Z\", \"duration\": \"0:01:01\", \"iteration\": \"17\", \"goal\": \"accuracy_max\", \"run_name\": \"MaxAbsScaler, LightGBM\", \"run_properties\": \"copy=True\", \"primary_metric\": 0.83615213, \"best_metric\": 0.84948546}, {\"run_id\": \"AutoML_99f14971-4f03-446c-aed7-c4fd72ad11a7_18\", \"run_number\": 94, \"metric\": null, \"status\": \"Completed\", \"run_type\": \"azureml.scriptrun\", \"training_percent\": \"100\", \"start_time\": \"2021-04-25T08:29:18.475664Z\", \"end_time\": \"2021-04-25T08:30:08.288602Z\", \"created_time\": \"2021-04-25T08:29:09.295447Z\", \"created_time_dt\": \"2021-04-25T08:29:09.295447Z\", \"duration\": \"0:00:58\", \"iteration\": \"18\", \"goal\": \"accuracy_max\", \"run_name\": \"SparseNormalizer, XGBoostClassifier\", \"run_properties\": \"<azureml.automl.runtime.shared.model_wrappers.SparseNormalizer object at 0x7f83b2a56c50\", \"primary_metric\": 0.79595078, \"best_metric\": 0.84948546}, {\"run_id\": \"AutoML_99f14971-4f03-446c-aed7-c4fd72ad11a7_19\", \"run_number\": 95, \"metric\": null, \"status\": \"Completed\", \"run_type\": \"azureml.scriptrun\", \"training_percent\": \"100\", \"start_time\": \"2021-04-25T08:29:54.476565Z\", \"end_time\": \"2021-04-25T08:30:42.449445Z\", \"created_time\": \"2021-04-25T08:29:38.56411Z\", \"created_time_dt\": \"2021-04-25T08:29:38.56411Z\", \"duration\": \"0:01:03\", \"iteration\": \"19\", \"goal\": \"accuracy_max\", \"run_name\": \"StandardScalerWrapper, LightGBM\", \"run_properties\": \"<azureml.automl.runtime.shared.model_wrappers.StandardScalerWrapper object at 0x7fa81832ce10\", \"primary_metric\": 0.71910515, \"best_metric\": 0.84948546}, {\"run_id\": \"AutoML_99f14971-4f03-446c-aed7-c4fd72ad11a7_20\", \"run_number\": 96, \"metric\": null, \"status\": \"Completed\", \"run_type\": \"azureml.scriptrun\", \"training_percent\": \"100\", \"start_time\": \"2021-04-25T08:30:19.063829Z\", \"end_time\": \"2021-04-25T08:31:01.273637Z\", \"created_time\": \"2021-04-25T08:30:03.979976Z\", \"created_time_dt\": \"2021-04-25T08:30:03.979976Z\", \"duration\": \"0:00:57\", \"iteration\": \"20\", \"goal\": \"accuracy_max\", \"run_name\": \"SparseNormalizer, XGBoostClassifier\", \"run_properties\": \"<azureml.automl.runtime.shared.model_wrappers.SparseNormalizer object at 0x7f46f1134b70\", \"primary_metric\": 0.78928412, \"best_metric\": 0.84948546}, {\"run_id\": \"AutoML_99f14971-4f03-446c-aed7-c4fd72ad11a7_21\", \"run_number\": 97, \"metric\": null, \"status\": \"Completed\", \"run_type\": \"azureml.scriptrun\", \"training_percent\": \"100\", \"start_time\": \"2021-04-25T08:30:20.316549Z\", \"end_time\": \"2021-04-25T08:31:00.094024Z\", \"created_time\": \"2021-04-25T08:30:08.872379Z\", \"created_time_dt\": \"2021-04-25T08:30:08.872379Z\", \"duration\": \"0:00:51\", \"iteration\": \"21\", \"goal\": \"accuracy_max\", \"run_name\": \"RobustScaler, LightGBM\", \"run_properties\": \"copy=True, quantile_range=[25, 75], with_centering=False,\\n             with_scaling=False\", \"primary_metric\": 0.76588367, \"best_metric\": 0.84948546}, {\"run_id\": \"AutoML_99f14971-4f03-446c-aed7-c4fd72ad11a7_22\", \"run_number\": 98, \"metric\": null, \"status\": \"Completed\", \"run_type\": \"azureml.scriptrun\", \"training_percent\": \"100\", \"start_time\": \"2021-04-25T08:30:21.943427Z\", \"end_time\": \"2021-04-25T08:31:00.569189Z\", \"created_time\": \"2021-04-25T08:30:14.441812Z\", \"created_time_dt\": \"2021-04-25T08:30:14.441812Z\", \"duration\": \"0:00:46\", \"iteration\": \"22\", \"goal\": \"accuracy_max\", \"run_name\": \"StandardScalerWrapper, XGBoostClassifier\", \"run_properties\": \"<azureml.automl.runtime.shared.model_wrappers.StandardScalerWrapper object at 0x7f2ef27c4e48\", \"primary_metric\": 0.84277405, \"best_metric\": 0.84948546}, {\"run_id\": \"AutoML_99f14971-4f03-446c-aed7-c4fd72ad11a7_23\", \"run_number\": 99, \"metric\": null, \"status\": \"Completed\", \"run_type\": \"azureml.scriptrun\", \"training_percent\": \"100\", \"start_time\": \"2021-04-25T08:30:51.916011Z\", \"end_time\": \"2021-04-25T08:31:42.75394Z\", \"created_time\": \"2021-04-25T08:30:44.466328Z\", \"created_time_dt\": \"2021-04-25T08:30:44.466328Z\", \"duration\": \"0:00:58\", \"iteration\": \"23\", \"goal\": \"accuracy_max\", \"run_name\": \"StandardScalerWrapper, ExtremeRandomTrees\", \"run_properties\": \"<azureml.automl.runtime.shared.model_wrappers.StandardScalerWrapper object at 0x7fb39e26fa20\", \"primary_metric\": 0.84288591, \"best_metric\": 0.84948546}, {\"run_id\": \"AutoML_99f14971-4f03-446c-aed7-c4fd72ad11a7_24\", \"run_number\": 100, \"metric\": null, \"status\": \"Completed\", \"run_type\": \"azureml.scriptrun\", \"training_percent\": \"100\", \"start_time\": \"2021-04-25T08:31:14.452449Z\", \"end_time\": \"2021-04-25T08:32:07.948054Z\", \"created_time\": \"2021-04-25T08:31:02.032888Z\", \"created_time_dt\": \"2021-04-25T08:31:02.032888Z\", \"duration\": \"0:01:05\", \"iteration\": \"24\", \"goal\": \"accuracy_max\", \"run_name\": \"StandardScalerWrapper, RandomForest\", \"run_properties\": \"<azureml.automl.runtime.shared.model_wrappers.StandardScalerWrapper object at 0x7f8b3e235d30\", \"primary_metric\": 0.80923937, \"best_metric\": 0.84948546}, {\"run_id\": \"AutoML_99f14971-4f03-446c-aed7-c4fd72ad11a7_25\", \"run_number\": 101, \"metric\": null, \"status\": \"Completed\", \"run_type\": \"azureml.scriptrun\", \"training_percent\": \"100\", \"start_time\": \"2021-04-25T08:31:15.536828Z\", \"end_time\": \"2021-04-25T08:32:10.999542Z\", \"created_time\": \"2021-04-25T08:31:06.409652Z\", \"created_time_dt\": \"2021-04-25T08:31:06.409652Z\", \"duration\": \"0:01:04\", \"iteration\": \"25\", \"goal\": \"accuracy_max\", \"run_name\": \"TruncatedSVDWrapper, RandomForest\", \"run_properties\": \"n_components=0.10894736842105263, random_state=None\", \"primary_metric\": 0.67894855, \"best_metric\": 0.84948546}, {\"run_id\": \"AutoML_99f14971-4f03-446c-aed7-c4fd72ad11a7_26\", \"run_number\": 102, \"metric\": null, \"status\": \"Completed\", \"run_type\": \"azureml.scriptrun\", \"training_percent\": \"100\", \"start_time\": \"2021-04-25T08:31:14.517175Z\", \"end_time\": \"2021-04-25T08:32:08.8616Z\", \"created_time\": \"2021-04-25T08:31:06.429159Z\", \"created_time_dt\": \"2021-04-25T08:31:06.429159Z\", \"duration\": \"0:01:02\", \"iteration\": \"26\", \"goal\": \"accuracy_max\", \"run_name\": \"StandardScalerWrapper, LightGBM\", \"run_properties\": \"<azureml.automl.runtime.shared.model_wrappers.StandardScalerWrapper object at 0x7fbba827ca20\", \"primary_metric\": 0.83944072, \"best_metric\": 0.84948546}, {\"run_id\": \"AutoML_99f14971-4f03-446c-aed7-c4fd72ad11a7_27\", \"run_number\": 103, \"metric\": null, \"status\": \"Completed\", \"run_type\": \"azureml.scriptrun\", \"training_percent\": \"100\", \"start_time\": \"2021-04-25T08:31:56.885527Z\", \"end_time\": \"2021-04-25T08:32:46.184537Z\", \"created_time\": \"2021-04-25T08:31:45.333656Z\", \"created_time_dt\": \"2021-04-25T08:31:45.333656Z\", \"duration\": \"0:01:00\", \"iteration\": \"27\", \"goal\": \"accuracy_max\", \"run_name\": \"StandardScalerWrapper, XGBoostClassifier\", \"run_properties\": \"<azureml.automl.runtime.shared.model_wrappers.StandardScalerWrapper object at 0x7fa546821128\", \"primary_metric\": 0.81935123, \"best_metric\": 0.84948546}, {\"run_id\": \"AutoML_99f14971-4f03-446c-aed7-c4fd72ad11a7_28\", \"run_number\": 104, \"metric\": null, \"status\": \"Completed\", \"run_type\": \"azureml.scriptrun\", \"training_percent\": \"100\", \"start_time\": \"2021-04-25T08:32:22.844618Z\", \"end_time\": \"2021-04-25T08:33:02.755679Z\", \"created_time\": \"2021-04-25T08:32:10.034825Z\", \"created_time_dt\": \"2021-04-25T08:32:10.034825Z\", \"duration\": \"0:00:52\", \"iteration\": \"28\", \"goal\": \"accuracy_max\", \"run_name\": \"TruncatedSVDWrapper, XGBoostClassifier\", \"run_properties\": \"n_components=0.7026315789473684, random_state=None\", \"primary_metric\": 0.76583893, \"best_metric\": 0.84948546}, {\"run_id\": \"AutoML_99f14971-4f03-446c-aed7-c4fd72ad11a7_29\", \"run_number\": 105, \"metric\": null, \"status\": \"Completed\", \"run_type\": \"azureml.scriptrun\", \"training_percent\": \"100\", \"start_time\": \"2021-04-25T08:32:37.573982Z\", \"end_time\": \"2021-04-25T08:33:06.670244Z\", \"created_time\": \"2021-04-25T08:32:14.138831Z\", \"created_time_dt\": \"2021-04-25T08:32:14.138831Z\", \"duration\": \"0:00:52\", \"iteration\": \"29\", \"goal\": \"accuracy_max\", \"run_name\": \"MaxAbsScaler, RandomForest\", \"run_properties\": \"copy=True\", \"primary_metric\": 0.83948546, \"best_metric\": 0.84948546}, {\"run_id\": \"AutoML_99f14971-4f03-446c-aed7-c4fd72ad11a7_30\", \"run_number\": 106, \"metric\": null, \"status\": \"Completed\", \"run_type\": \"azureml.scriptrun\", \"training_percent\": \"100\", \"start_time\": \"2021-04-25T08:32:23.286127Z\", \"end_time\": \"2021-04-25T08:33:02.328251Z\", \"created_time\": \"2021-04-25T08:32:14.139225Z\", \"created_time_dt\": \"2021-04-25T08:32:14.139225Z\", \"duration\": \"0:00:48\", \"iteration\": \"30\", \"goal\": \"accuracy_max\", \"run_name\": \"RobustScaler, RandomForest\", \"run_properties\": \"copy=True, quantile_range=[25, 75], with_centering=False,\\n             with_scaling=False\", \"primary_metric\": 0.81595078, \"best_metric\": 0.84948546}, {\"run_id\": \"AutoML_99f14971-4f03-446c-aed7-c4fd72ad11a7_31\", \"run_number\": 107, \"metric\": null, \"status\": \"Completed\", \"run_type\": \"azureml.scriptrun\", \"training_percent\": \"100\", \"start_time\": \"2021-04-25T08:32:56.285067Z\", \"end_time\": \"2021-04-25T08:33:40.983464Z\", \"created_time\": \"2021-04-25T08:32:48.743548Z\", \"created_time_dt\": \"2021-04-25T08:32:48.743548Z\", \"duration\": \"0:00:52\", \"iteration\": \"31\", \"goal\": \"accuracy_max\", \"run_name\": \"StandardScalerWrapper, XGBoostClassifier\", \"run_properties\": \"<azureml.automl.runtime.shared.model_wrappers.StandardScalerWrapper object at 0x7f2092267080\", \"primary_metric\": 0.83944072, \"best_metric\": 0.84948546}, {\"run_id\": \"AutoML_99f14971-4f03-446c-aed7-c4fd72ad11a7_32\", \"run_number\": 108, \"metric\": null, \"status\": \"Completed\", \"run_type\": \"azureml.scriptrun\", \"training_percent\": \"100\", \"start_time\": \"2021-04-25T08:33:14.753383Z\", \"end_time\": \"2021-04-25T08:33:54.624564Z\", \"created_time\": \"2021-04-25T08:33:03.996209Z\", \"created_time_dt\": \"2021-04-25T08:33:03.996209Z\", \"duration\": \"0:00:50\", \"iteration\": \"32\", \"goal\": \"accuracy_max\", \"run_name\": \"RobustScaler, RandomForest\", \"run_properties\": \"copy=True, quantile_range=[25, 75], with_centering=True,\\n             with_scaling=False\", \"primary_metric\": 0.85284116, \"best_metric\": 0.85284116}, {\"run_id\": \"AutoML_99f14971-4f03-446c-aed7-c4fd72ad11a7_33\", \"run_number\": 109, \"metric\": null, \"status\": \"Completed\", \"run_type\": \"azureml.scriptrun\", \"training_percent\": \"100\", \"start_time\": \"2021-04-25T08:33:20.059621Z\", \"end_time\": \"2021-04-25T08:33:57.538792Z\", \"created_time\": \"2021-04-25T08:33:07.903209Z\", \"created_time_dt\": \"2021-04-25T08:33:07.903209Z\", \"duration\": \"0:00:49\", \"iteration\": \"33\", \"goal\": \"accuracy_max\", \"run_name\": \"RobustScaler, RandomForest\", \"run_properties\": \"copy=True, quantile_range=[25, 75], with_centering=False,\\n             with_scaling=True\", \"primary_metric\": 0.85281879, \"best_metric\": 0.85284116}, {\"run_id\": \"AutoML_99f14971-4f03-446c-aed7-c4fd72ad11a7_34\", \"run_number\": 110, \"metric\": null, \"status\": \"Completed\", \"run_type\": \"azureml.scriptrun\", \"training_percent\": \"100\", \"start_time\": \"2021-04-25T08:33:21.812047Z\", \"end_time\": \"2021-04-25T08:34:38.682177Z\", \"created_time\": \"2021-04-25T08:33:11.680521Z\", \"created_time_dt\": \"2021-04-25T08:33:11.680521Z\", \"duration\": \"0:01:27\", \"iteration\": \"34\", \"goal\": \"accuracy_max\", \"run_name\": \"SparseNormalizer, XGBoostClassifier\", \"run_properties\": \"<azureml.automl.runtime.shared.model_wrappers.SparseNormalizer object at 0x7f4610faf9b0\", \"primary_metric\": 0.8193736, \"best_metric\": 0.85284116}, {\"run_id\": \"AutoML_99f14971-4f03-446c-aed7-c4fd72ad11a7_35\", \"run_number\": 111, \"metric\": null, \"status\": \"Completed\", \"run_type\": \"azureml.scriptrun\", \"training_percent\": \"100\", \"start_time\": \"2021-04-25T08:33:59.628388Z\", \"end_time\": \"2021-04-25T08:35:15.749303Z\", \"created_time\": \"2021-04-25T08:33:44.207679Z\", \"created_time_dt\": \"2021-04-25T08:33:44.207679Z\", \"duration\": \"0:01:31\", \"iteration\": \"35\", \"goal\": \"accuracy_max\", \"run_name\": \"RobustScaler, RandomForest\", \"run_properties\": \"copy=True, quantile_range=[10, 90], with_centering=True,\\n             with_scaling=False\", \"primary_metric\": 0.81261745, \"best_metric\": 0.85284116}, {\"run_id\": \"AutoML_99f14971-4f03-446c-aed7-c4fd72ad11a7_36\", \"run_number\": 112, \"metric\": null, \"status\": \"Completed\", \"run_type\": \"azureml.scriptrun\", \"training_percent\": \"100\", \"start_time\": \"2021-04-25T08:34:06.092181Z\", \"end_time\": \"2021-04-25T08:35:18.286581Z\", \"created_time\": \"2021-04-25T08:33:56.307747Z\", \"created_time_dt\": \"2021-04-25T08:33:56.307747Z\", \"duration\": \"0:01:21\", \"iteration\": \"36\", \"goal\": \"accuracy_max\", \"run_name\": \"MinMaxScaler, LogisticRegression\", \"run_properties\": \"copy=True, feature_range=(0, 1\", \"primary_metric\": 0.79592841, \"best_metric\": 0.85284116}, {\"run_id\": \"AutoML_99f14971-4f03-446c-aed7-c4fd72ad11a7_37\", \"run_number\": 113, \"metric\": null, \"status\": \"Completed\", \"run_type\": \"azureml.scriptrun\", \"training_percent\": \"100\", \"start_time\": \"2021-04-25T08:34:07.748852Z\", \"end_time\": \"2021-04-25T08:35:16.516768Z\", \"created_time\": \"2021-04-25T08:33:59.663121Z\", \"created_time_dt\": \"2021-04-25T08:33:59.663121Z\", \"duration\": \"0:01:16\", \"iteration\": \"37\", \"goal\": \"accuracy_max\", \"run_name\": \"RobustScaler, RandomForest\", \"run_properties\": \"copy=True, quantile_range=[10, 90], with_centering=True,\\n             with_scaling=False\", \"primary_metric\": 0.83610738, \"best_metric\": 0.85284116}, {\"run_id\": \"AutoML_99f14971-4f03-446c-aed7-c4fd72ad11a7_38\", \"run_number\": 114, \"metric\": null, \"status\": \"Completed\", \"run_type\": \"azureml.scriptrun\", \"training_percent\": \"100\", \"start_time\": \"2021-04-25T08:34:55.211502Z\", \"end_time\": \"2021-04-25T08:35:42.872009Z\", \"created_time\": \"2021-04-25T08:34:40.472991Z\", \"created_time_dt\": \"2021-04-25T08:34:40.472991Z\", \"duration\": \"0:01:02\", \"iteration\": \"38\", \"goal\": \"accuracy_max\", \"run_name\": \"StandardScalerWrapper, RandomForest\", \"run_properties\": \"<azureml.automl.runtime.shared.model_wrappers.StandardScalerWrapper object at 0x7f9196b53ac8\", \"primary_metric\": 0.83268456, \"best_metric\": 0.85284116}, {\"run_id\": \"AutoML_99f14971-4f03-446c-aed7-c4fd72ad11a7_39\", \"run_number\": 115, \"metric\": null, \"status\": \"Completed\", \"run_type\": \"azureml.scriptrun\", \"training_percent\": \"100\", \"start_time\": \"2021-04-25T08:35:32.342398Z\", \"end_time\": \"2021-04-25T08:36:33.959844Z\", \"created_time\": \"2021-04-25T08:35:17.793135Z\", \"created_time_dt\": \"2021-04-25T08:35:17.793135Z\", \"duration\": \"0:01:16\", \"iteration\": \"39\", \"goal\": \"accuracy_max\", \"run_name\": \"SparseNormalizer, RandomForest\", \"run_properties\": \"<azureml.automl.runtime.shared.model_wrappers.SparseNormalizer object at 0x7fc773f0d630\", \"primary_metric\": 0.81272931, \"best_metric\": 0.85284116}, {\"run_id\": \"AutoML_99f14971-4f03-446c-aed7-c4fd72ad11a7_40\", \"run_number\": 116, \"metric\": null, \"status\": \"Completed\", \"run_type\": \"azureml.scriptrun\", \"training_percent\": \"100\", \"start_time\": \"2021-04-25T08:35:33.105818Z\", \"end_time\": \"2021-04-25T08:36:32.808662Z\", \"created_time\": \"2021-04-25T08:35:22.423503Z\", \"created_time_dt\": \"2021-04-25T08:35:22.423503Z\", \"duration\": \"0:01:10\", \"iteration\": \"40\", \"goal\": \"accuracy_max\", \"run_name\": \"PCA, RandomForest\", \"run_properties\": \"copy=True, iterated_power='auto', n_components=0.20789473684210527,\\n    random_state=None, svd_solver='auto', tol=0.0, whiten=True\", \"primary_metric\": 0.56856823, \"best_metric\": 0.85284116}, {\"run_id\": \"AutoML_99f14971-4f03-446c-aed7-c4fd72ad11a7_41\", \"run_number\": 117, \"metric\": null, \"status\": \"Completed\", \"run_type\": \"azureml.scriptrun\", \"training_percent\": \"100\", \"start_time\": \"2021-04-25T08:35:32.836495Z\", \"end_time\": \"2021-04-25T08:36:32.979385Z\", \"created_time\": \"2021-04-25T08:35:22.577935Z\", \"created_time_dt\": \"2021-04-25T08:35:22.577935Z\", \"duration\": \"0:01:10\", \"iteration\": \"41\", \"goal\": \"accuracy_max\", \"run_name\": \"RobustScaler, RandomForest\", \"run_properties\": \"copy=True, quantile_range=[10, 90], with_centering=True,\\n             with_scaling=True\", \"primary_metric\": 0.84270694, \"best_metric\": 0.85284116}, {\"run_id\": \"AutoML_99f14971-4f03-446c-aed7-c4fd72ad11a7_42\", \"run_number\": 118, \"metric\": null, \"status\": \"Completed\", \"run_type\": \"azureml.scriptrun\", \"training_percent\": \"100\", \"start_time\": \"2021-04-25T08:35:58.298147Z\", \"end_time\": \"2021-04-25T08:36:56.856652Z\", \"created_time\": \"2021-04-25T08:35:44.574548Z\", \"created_time_dt\": \"2021-04-25T08:35:44.574548Z\", \"duration\": \"0:01:12\", \"iteration\": \"42\", \"goal\": \"accuracy_max\", \"run_name\": \"RobustScaler, LightGBM\", \"run_properties\": \"copy=True, quantile_range=[25, 75], with_centering=False,\\n             with_scaling=False\", \"primary_metric\": 0.83946309, \"best_metric\": 0.85284116}, {\"run_id\": \"AutoML_99f14971-4f03-446c-aed7-c4fd72ad11a7_43\", \"run_number\": 119, \"metric\": null, \"status\": \"Completed\", \"run_type\": \"azureml.scriptrun\", \"training_percent\": \"100\", \"start_time\": \"2021-04-25T08:36:55.208827Z\", \"end_time\": \"2021-04-25T08:37:53.372413Z\", \"created_time\": \"2021-04-25T08:36:36.083302Z\", \"created_time_dt\": \"2021-04-25T08:36:36.083302Z\", \"duration\": \"0:01:17\", \"iteration\": \"43\", \"goal\": \"accuracy_max\", \"run_name\": \"StandardScalerWrapper, XGBoostClassifier\", \"run_properties\": \"<azureml.automl.runtime.shared.model_wrappers.StandardScalerWrapper object at 0x7f70bcfd5668\", \"primary_metric\": 0.82941834, \"best_metric\": 0.85284116}, {\"run_id\": \"AutoML_99f14971-4f03-446c-aed7-c4fd72ad11a7_44\", \"run_number\": 120, \"metric\": null, \"status\": \"Completed\", \"run_type\": \"azureml.scriptrun\", \"training_percent\": \"100\", \"start_time\": \"2021-04-25T08:36:55.868803Z\", \"end_time\": \"2021-04-25T08:37:53.571817Z\", \"created_time\": \"2021-04-25T08:36:36.198509Z\", \"created_time_dt\": \"2021-04-25T08:36:36.198509Z\", \"duration\": \"0:01:17\", \"iteration\": \"44\", \"goal\": \"accuracy_max\", \"run_name\": \"MinMaxScaler, LightGBM\", \"run_properties\": \"copy=True, feature_range=(0, 1\", \"primary_metric\": 0.82270694, \"best_metric\": 0.85284116}, {\"run_id\": \"AutoML_99f14971-4f03-446c-aed7-c4fd72ad11a7_45\", \"run_number\": 121, \"metric\": null, \"status\": \"Completed\", \"run_type\": \"azureml.scriptrun\", \"training_percent\": \"100\", \"start_time\": \"2021-04-25T08:36:54.958126Z\", \"end_time\": \"2021-04-25T08:37:53.572185Z\", \"created_time\": \"2021-04-25T08:36:44.547264Z\", \"created_time_dt\": \"2021-04-25T08:36:44.547264Z\", \"duration\": \"0:01:09\", \"iteration\": \"45\", \"goal\": \"accuracy_max\", \"run_name\": \"MaxAbsScaler, RandomForest\", \"run_properties\": \"copy=True\", \"primary_metric\": 0.8060179, \"best_metric\": 0.85284116}, {\"run_id\": \"AutoML_99f14971-4f03-446c-aed7-c4fd72ad11a7_46\", \"run_number\": 122, \"metric\": null, \"status\": \"Canceled\", \"run_type\": \"azureml.scriptrun\", \"training_percent\": \"100\", \"start_time\": \"2021-04-25T08:37:14.870411Z\", \"end_time\": \"2021-04-25T08:38:03.823587Z\", \"created_time\": \"2021-04-25T08:37:00.300786Z\", \"created_time_dt\": \"2021-04-25T08:37:00.300786Z\", \"duration\": \"0:01:03\", \"iteration\": \"46\", \"goal\": \"accuracy_max\", \"run_name\": \"StandardScalerWrapper, RandomForest\", \"run_properties\": \"<azureml.automl.runtime.shared.model_wrappers.StandardScalerWrapper object at 0x7fe77fb20908\", \"primary_metric\": 0.84610738, \"best_metric\": 0.85284116}, {\"run_id\": \"AutoML_99f14971-4f03-446c-aed7-c4fd72ad11a7_47\", \"run_number\": 123, \"metric\": null, \"status\": \"Completed\", \"run_type\": \"azureml.scriptrun\", \"training_percent\": \"100\", \"start_time\": \"2021-04-25T08:38:21.783881Z\", \"end_time\": \"2021-04-25T08:39:29.793297Z\", \"created_time\": \"2021-04-25T08:38:06.479692Z\", \"created_time_dt\": \"2021-04-25T08:38:06.479692Z\", \"duration\": \"0:01:23\", \"iteration\": \"47\", \"goal\": \"accuracy_max\", \"run_name\": \"VotingEnsemble\", \"run_properties\": \"classification_labels=None,\\n                              estimators=[('32',\\n                                           Pipeline(memory=None,\\n                                                    steps=[('robustscaler',\\n                                                            RobustScaler(copy=True,\\n                                                                         quantile_range=[25,\\n                                                                                         75],\\n                                                                         with_centering=True,\\n                                                                         with_scaling=False\", \"primary_metric\": 0.86293065, \"best_metric\": 0.86293065}], \"children_metrics\": {\"categories\": [0], \"series\": {\"f1_score_micro\": [{\"categories\": [\"0\", \"1\", \"2\", \"3\", \"4\", \"5\", \"6\", \"7\", \"8\", \"9\", \"10\", \"11\", \"12\", \"13\", \"14\", \"15\", \"16\", \"17\", \"18\", \"19\", \"20\", \"21\", \"22\", \"23\", \"24\", \"25\", \"26\", \"27\", \"28\", \"29\", \"30\", \"31\", \"32\", \"33\", \"34\", \"35\", \"36\", \"37\", \"38\", \"39\", \"40\", \"41\", \"42\", \"43\", \"44\", \"45\", \"46\", \"47\"], \"mode\": \"markers\", \"name\": \"f1_score_micro\", \"stepped\": false, \"type\": \"scatter\", \"data\": [0.8127069351230425, 0.8026621923937359, 0.8159955257270693, 0.8093064876957494, 0.8494854586129754, 0.6955704697986578, 0.685592841163311, 0.782572706935123, 0.7959284116331096, 0.7223266219239374, 0.8260626398210291, 0.8361073825503356, 0.8394630872483221, 0.7960178970917225, 0.7692393736017897, 0.8394630872483221, 0.8025727069351231, 0.836152125279642, 0.7959507829977628, 0.7191051454138703, 0.7892841163310962, 0.7658836689038031, 0.8427740492170024, 0.8428859060402685, 0.8092393736017898, 0.6789485458612976, 0.839440715883669, 0.8193512304250559, 0.7658389261744967, 0.8394854586129754, 0.8159507829977628, 0.839440715883669, 0.852841163310962, 0.8528187919463086, 0.8193736017897092, 0.8126174496644294, 0.7959284116331096, 0.8361073825503356, 0.8326845637583892, 0.8127293064876957, 0.5685682326621924, 0.8427069351230425, 0.8394630872483221, 0.8294183445190157, 0.8227069351230425, 0.8060178970917224, 0.8461073825503356, 0.8629306487695749]}, {\"categories\": [\"0\", \"1\", \"2\", \"3\", \"4\", \"5\", \"6\", \"7\", \"8\", \"9\", \"10\", \"11\", \"12\", \"13\", \"14\", \"15\", \"16\", \"17\", \"18\", \"19\", \"20\", \"21\", \"22\", \"23\", \"24\", \"25\", \"26\", \"27\", \"28\", \"29\", \"30\", \"31\", \"32\", \"33\", \"34\", \"35\", \"36\", \"37\", \"38\", \"39\", \"40\", \"41\", \"42\", \"43\", \"44\", \"45\", \"46\", \"47\"], \"mode\": \"lines\", \"name\": \"f1_score_micro_max\", \"stepped\": true, \"type\": \"scatter\", \"data\": [0.8127069351230425, 0.8127069351230425, 0.8159955257270693, 0.8159955257270693, 0.8494854586129754, 0.8494854586129754, 0.8494854586129754, 0.8494854586129754, 0.8494854586129754, 0.8494854586129754, 0.8494854586129754, 0.8494854586129754, 0.8494854586129754, 0.8494854586129754, 0.8494854586129754, 0.8494854586129754, 0.8494854586129754, 0.8494854586129754, 0.8494854586129754, 0.8494854586129754, 0.8494854586129754, 0.8494854586129754, 0.8494854586129754, 0.8494854586129754, 0.8494854586129754, 0.8494854586129754, 0.8494854586129754, 0.8494854586129754, 0.8494854586129754, 0.8494854586129754, 0.8494854586129754, 0.8494854586129754, 0.852841163310962, 0.852841163310962, 0.852841163310962, 0.852841163310962, 0.852841163310962, 0.852841163310962, 0.852841163310962, 0.852841163310962, 0.852841163310962, 0.852841163310962, 0.852841163310962, 0.852841163310962, 0.852841163310962, 0.852841163310962, 0.852841163310962, 0.8629306487695749]}], \"average_precision_score_macro\": [{\"categories\": [\"0\", \"1\", \"2\", \"3\", \"4\", \"5\", \"6\", \"7\", \"8\", \"9\", \"10\", \"11\", \"12\", \"13\", \"14\", \"15\", \"16\", \"17\", \"18\", \"19\", \"20\", \"21\", \"22\", \"23\", \"24\", \"25\", \"26\", \"27\", \"28\", \"29\", \"30\", \"31\", \"32\", \"33\", \"34\", \"35\", \"36\", \"37\", \"38\", \"39\", \"40\", \"41\", \"42\", \"43\", \"44\", \"45\", \"46\", \"47\"], \"mode\": \"markers\", \"name\": \"average_precision_score_macro\", \"stepped\": false, \"type\": \"scatter\", \"data\": [0.8315719322255934, 0.8478967328112191, 0.865424915941719, 0.8527328007910135, 0.8693977709736633, 0.7318283571615326, 0.7181193927665178, 0.8262478650101888, 0.8355076559723493, 0.7491666713318071, 0.8722915734458467, 0.8821247690257692, 0.8774854290596588, 0.8629575325899119, 0.8365944457582204, 0.8576620800317512, 0.8480822251750584, 0.8821474199060129, 0.8573787935207342, 0.8071894200780918, 0.8059427464387565, 0.8568450242571521, 0.8735377321083917, 0.8626939396375889, 0.8408691471666612, 0.5211960138561962, 0.8750902226425072, 0.8566849499500128, 0.8265271036305631, 0.8448722788103962, 0.8802025495543659, 0.880800515740348, 0.8960232750611068, 0.8975487693028439, 0.8274220350943802, 0.7940242804719524, 0.8306859511190424, 0.8853845408966531, 0.8839387389533977, 0.823486447650678, 0.4962120109526115, 0.8756578048445232, 0.8664435617160845, 0.856027602206939, 0.8729662517460146, 0.8596896986809759, 0.8895881222036036, 0.883063656792922]}, {\"categories\": [\"0\", \"1\", \"2\", \"3\", \"4\", \"5\", \"6\", \"7\", \"8\", \"9\", \"10\", \"11\", \"12\", \"13\", \"14\", \"15\", \"16\", \"17\", \"18\", \"19\", \"20\", \"21\", \"22\", \"23\", \"24\", \"25\", \"26\", \"27\", \"28\", \"29\", \"30\", \"31\", \"32\", \"33\", \"34\", \"35\", \"36\", \"37\", \"38\", \"39\", \"40\", \"41\", \"42\", \"43\", \"44\", \"45\", \"46\", \"47\"], \"mode\": \"lines\", \"name\": \"average_precision_score_macro_max\", \"stepped\": true, \"type\": \"scatter\", \"data\": [0.8315719322255934, 0.8478967328112191, 0.865424915941719, 0.865424915941719, 0.8693977709736633, 0.8693977709736633, 0.8693977709736633, 0.8693977709736633, 0.8693977709736633, 0.8693977709736633, 0.8722915734458467, 0.8821247690257692, 0.8821247690257692, 0.8821247690257692, 0.8821247690257692, 0.8821247690257692, 0.8821247690257692, 0.8821474199060129, 0.8821474199060129, 0.8821474199060129, 0.8821474199060129, 0.8821474199060129, 0.8821474199060129, 0.8821474199060129, 0.8821474199060129, 0.8821474199060129, 0.8821474199060129, 0.8821474199060129, 0.8821474199060129, 0.8821474199060129, 0.8821474199060129, 0.8821474199060129, 0.8960232750611068, 0.8975487693028439, 0.8975487693028439, 0.8975487693028439, 0.8975487693028439, 0.8975487693028439, 0.8975487693028439, 0.8975487693028439, 0.8975487693028439, 0.8975487693028439, 0.8975487693028439, 0.8975487693028439, 0.8975487693028439, 0.8975487693028439, 0.8975487693028439, 0.8975487693028439]}], \"matthews_correlation\": [{\"categories\": [\"0\", \"1\", \"2\", \"3\", \"4\", \"5\", \"6\", \"7\", \"8\", \"9\", \"10\", \"11\", \"12\", \"13\", \"14\", \"15\", \"16\", \"17\", \"18\", \"19\", \"20\", \"21\", \"22\", \"23\", \"24\", \"25\", \"26\", \"27\", \"28\", \"29\", \"30\", \"31\", \"32\", \"33\", \"34\", \"35\", \"36\", \"37\", \"38\", \"39\", \"40\", \"41\", \"42\", \"43\", \"44\", \"45\", \"46\", \"47\"], \"mode\": \"markers\", \"name\": \"matthews_correlation\", \"stepped\": false, \"type\": \"scatter\", \"data\": [0.5565126394717403, 0.5366227528940228, 0.5795311057346197, 0.5449086350743921, 0.6500611868309574, 0.26719143794059763, 0.22106482453589366, 0.4912379522063194, 0.527048009806968, 0.3566458324031834, 0.5905432866524027, 0.6195000135143369, 0.6209192345901703, 0.5115142948142521, 0.43362204766426005, 0.6261255586221294, 0.5493619121151613, 0.6144636531350727, 0.5276707456862657, 0.27556879536348583, 0.5022132374861956, 0.428205020422331, 0.632452189677491, 0.6291990602124826, 0.5777895290920987, 0.0, 0.6300904831807059, 0.5676766259260911, 0.4308949657409197, 0.6267704180599255, 0.6084648907853494, 0.6217075798398572, 0.6618347034738212, 0.6600530476815463, 0.5662471818807885, 0.5922145740090221, 0.5298441349242868, 0.6188905899116935, 0.6286891828906818, 0.5592342783109999, -0.034207882045928666, 0.6551699595924119, 0.6223736916325768, 0.6057087821320606, 0.5887950329434113, 0.5444734645764693, 0.6461871209367892, 0.67935260054681]}, {\"categories\": [\"0\", \"1\", \"2\", \"3\", \"4\", \"5\", \"6\", \"7\", \"8\", \"9\", \"10\", \"11\", \"12\", \"13\", \"14\", \"15\", \"16\", \"17\", \"18\", \"19\", \"20\", \"21\", \"22\", \"23\", \"24\", \"25\", \"26\", \"27\", \"28\", \"29\", \"30\", \"31\", \"32\", \"33\", \"34\", \"35\", \"36\", \"37\", \"38\", \"39\", \"40\", \"41\", \"42\", \"43\", \"44\", \"45\", \"46\", \"47\"], \"mode\": \"lines\", \"name\": \"matthews_correlation_max\", \"stepped\": true, \"type\": \"scatter\", \"data\": [0.5565126394717403, 0.5565126394717403, 0.5795311057346197, 0.5795311057346197, 0.6500611868309574, 0.6500611868309574, 0.6500611868309574, 0.6500611868309574, 0.6500611868309574, 0.6500611868309574, 0.6500611868309574, 0.6500611868309574, 0.6500611868309574, 0.6500611868309574, 0.6500611868309574, 0.6500611868309574, 0.6500611868309574, 0.6500611868309574, 0.6500611868309574, 0.6500611868309574, 0.6500611868309574, 0.6500611868309574, 0.6500611868309574, 0.6500611868309574, 0.6500611868309574, 0.6500611868309574, 0.6500611868309574, 0.6500611868309574, 0.6500611868309574, 0.6500611868309574, 0.6500611868309574, 0.6500611868309574, 0.6618347034738212, 0.6618347034738212, 0.6618347034738212, 0.6618347034738212, 0.6618347034738212, 0.6618347034738212, 0.6618347034738212, 0.6618347034738212, 0.6618347034738212, 0.6618347034738212, 0.6618347034738212, 0.6618347034738212, 0.6618347034738212, 0.6618347034738212, 0.6618347034738212, 0.67935260054681]}], \"precision_score_micro\": [{\"categories\": [\"0\", \"1\", \"2\", \"3\", \"4\", \"5\", \"6\", \"7\", \"8\", \"9\", \"10\", \"11\", \"12\", \"13\", \"14\", \"15\", \"16\", \"17\", \"18\", \"19\", \"20\", \"21\", \"22\", \"23\", \"24\", \"25\", \"26\", \"27\", \"28\", \"29\", \"30\", \"31\", \"32\", \"33\", \"34\", \"35\", \"36\", \"37\", \"38\", \"39\", \"40\", \"41\", \"42\", \"43\", \"44\", \"45\", \"46\", \"47\"], \"mode\": \"markers\", \"name\": \"precision_score_micro\", \"stepped\": false, \"type\": \"scatter\", \"data\": [0.8127069351230425, 0.802662192393736, 0.8159955257270693, 0.8093064876957494, 0.8494854586129754, 0.6955704697986578, 0.685592841163311, 0.782572706935123, 0.7959284116331096, 0.7223266219239374, 0.8260626398210291, 0.8361073825503356, 0.8394630872483222, 0.7960178970917225, 0.7692393736017897, 0.8394630872483222, 0.8025727069351231, 0.836152125279642, 0.7959507829977628, 0.7191051454138703, 0.7892841163310962, 0.7658836689038031, 0.8427740492170023, 0.8428859060402685, 0.8092393736017898, 0.6789485458612976, 0.839440715883669, 0.8193512304250559, 0.7658389261744967, 0.8394854586129754, 0.8159507829977628, 0.839440715883669, 0.852841163310962, 0.8528187919463087, 0.8193736017897092, 0.8126174496644295, 0.7959284116331096, 0.8361073825503356, 0.8326845637583893, 0.8127293064876957, 0.5685682326621924, 0.8427069351230425, 0.8394630872483222, 0.8294183445190157, 0.8227069351230425, 0.8060178970917226, 0.8461073825503356, 0.8629306487695749]}, {\"categories\": [\"0\", \"1\", \"2\", \"3\", \"4\", \"5\", \"6\", \"7\", \"8\", \"9\", \"10\", \"11\", \"12\", \"13\", \"14\", \"15\", \"16\", \"17\", \"18\", \"19\", \"20\", \"21\", \"22\", \"23\", \"24\", \"25\", \"26\", \"27\", \"28\", \"29\", \"30\", \"31\", \"32\", \"33\", \"34\", \"35\", \"36\", \"37\", \"38\", \"39\", \"40\", \"41\", \"42\", \"43\", \"44\", \"45\", \"46\", \"47\"], \"mode\": \"lines\", \"name\": \"precision_score_micro_max\", \"stepped\": true, \"type\": \"scatter\", \"data\": [0.8127069351230425, 0.8127069351230425, 0.8159955257270693, 0.8159955257270693, 0.8494854586129754, 0.8494854586129754, 0.8494854586129754, 0.8494854586129754, 0.8494854586129754, 0.8494854586129754, 0.8494854586129754, 0.8494854586129754, 0.8494854586129754, 0.8494854586129754, 0.8494854586129754, 0.8494854586129754, 0.8494854586129754, 0.8494854586129754, 0.8494854586129754, 0.8494854586129754, 0.8494854586129754, 0.8494854586129754, 0.8494854586129754, 0.8494854586129754, 0.8494854586129754, 0.8494854586129754, 0.8494854586129754, 0.8494854586129754, 0.8494854586129754, 0.8494854586129754, 0.8494854586129754, 0.8494854586129754, 0.852841163310962, 0.852841163310962, 0.852841163310962, 0.852841163310962, 0.852841163310962, 0.852841163310962, 0.852841163310962, 0.852841163310962, 0.852841163310962, 0.852841163310962, 0.852841163310962, 0.852841163310962, 0.852841163310962, 0.852841163310962, 0.852841163310962, 0.8629306487695749]}], \"precision_score_weighted\": [{\"categories\": [\"0\", \"1\", \"2\", \"3\", \"4\", \"5\", \"6\", \"7\", \"8\", \"9\", \"10\", \"11\", \"12\", \"13\", \"14\", \"15\", \"16\", \"17\", \"18\", \"19\", \"20\", \"21\", \"22\", \"23\", \"24\", \"25\", \"26\", \"27\", \"28\", \"29\", \"30\", \"31\", \"32\", \"33\", \"34\", \"35\", \"36\", \"37\", \"38\", \"39\", \"40\", \"41\", \"42\", \"43\", \"44\", \"45\", \"46\", \"47\"], \"mode\": \"markers\", \"name\": \"precision_score_weighted\", \"stepped\": false, \"type\": \"scatter\", \"data\": [0.8129063373603715, 0.803082390133849, 0.8215845354442162, 0.809356178662262, 0.8528864471891717, 0.73213443354822, 0.7299996014044958, 0.7844920749060251, 0.7964582497587189, 0.7440497141436739, 0.8294549804910152, 0.8392696843036567, 0.8404919618555239, 0.8065360772240755, 0.7774863995425806, 0.8421152499004848, 0.8085020357607922, 0.8405276728038027, 0.7971235294227585, 0.7414167441293555, 0.7856732769369648, 0.770204138702461, 0.8454120363851907, 0.8484430172643946, 0.818811842498852, 0.46100265853890465, 0.8434482418285527, 0.8179240213697552, 0.7608410011431801, 0.8429603244279609, 0.8368602734090769, 0.8401052610308897, 0.8556422520016804, 0.8566391013156885, 0.8204838213148031, 0.8307288942032192, 0.7988257892167447, 0.8376609999123635, 0.8408981895844505, 0.8186510040439461, 0.5481968900630438, 0.8520964028466329, 0.8407664892583806, 0.8404220860326078, 0.8251567134606678, 0.8190338279429352, 0.8494547797532608, 0.8664304925332674]}, {\"categories\": [\"0\", \"1\", \"2\", \"3\", \"4\", \"5\", \"6\", \"7\", \"8\", \"9\", \"10\", \"11\", \"12\", \"13\", \"14\", \"15\", \"16\", \"17\", \"18\", \"19\", \"20\", \"21\", \"22\", \"23\", \"24\", \"25\", \"26\", \"27\", \"28\", \"29\", \"30\", \"31\", \"32\", \"33\", \"34\", \"35\", \"36\", \"37\", \"38\", \"39\", \"40\", \"41\", \"42\", \"43\", \"44\", \"45\", \"46\", \"47\"], \"mode\": \"lines\", \"name\": \"precision_score_weighted_max\", \"stepped\": true, \"type\": \"scatter\", \"data\": [0.8129063373603715, 0.8129063373603715, 0.8215845354442162, 0.8215845354442162, 0.8528864471891717, 0.8528864471891717, 0.8528864471891717, 0.8528864471891717, 0.8528864471891717, 0.8528864471891717, 0.8528864471891717, 0.8528864471891717, 0.8528864471891717, 0.8528864471891717, 0.8528864471891717, 0.8528864471891717, 0.8528864471891717, 0.8528864471891717, 0.8528864471891717, 0.8528864471891717, 0.8528864471891717, 0.8528864471891717, 0.8528864471891717, 0.8528864471891717, 0.8528864471891717, 0.8528864471891717, 0.8528864471891717, 0.8528864471891717, 0.8528864471891717, 0.8528864471891717, 0.8528864471891717, 0.8528864471891717, 0.8556422520016804, 0.8566391013156885, 0.8566391013156885, 0.8566391013156885, 0.8566391013156885, 0.8566391013156885, 0.8566391013156885, 0.8566391013156885, 0.8566391013156885, 0.8566391013156885, 0.8566391013156885, 0.8566391013156885, 0.8566391013156885, 0.8566391013156885, 0.8566391013156885, 0.8664304925332674]}], \"log_loss\": [{\"categories\": [\"0\", \"1\", \"2\", \"3\", \"4\", \"5\", \"6\", \"7\", \"8\", \"9\", \"10\", \"11\", \"12\", \"13\", \"14\", \"15\", \"16\", \"17\", \"18\", \"19\", \"20\", \"21\", \"22\", \"23\", \"24\", \"25\", \"26\", \"27\", \"28\", \"29\", \"30\", \"31\", \"32\", \"33\", \"34\", \"35\", \"36\", \"37\", \"38\", \"39\", \"40\", \"41\", \"42\", \"43\", \"44\", \"45\", \"46\", \"47\"], \"mode\": \"markers\", \"name\": \"log_loss\", \"stepped\": false, \"type\": \"scatter\", \"data\": [0.5552296145880724, 0.4808864033102538, 0.5116703080024788, 0.4181388908703259, 0.4040679954503766, 0.5550731671875224, 0.5711364753718926, 0.4797165372115395, 0.4411691237465704, 0.6179962923377008, 0.4094328028394219, 0.37753481116395804, 0.46891305657513305, 0.45568853663874465, 0.4654461455150133, 0.3949980896175409, 0.4287118137213588, 0.43056893685505965, 0.43354187320196996, 0.5321183918218813, 0.5032327812001952, 0.4681583180942316, 0.39657628751576335, 0.4329954664286209, 0.5228779490987996, 0.6278597107490669, 0.3964978328056631, 0.4518825353598114, 0.46150708958369413, 0.5126497497367535, 0.40323741612631947, 0.3854708201385334, 0.39107894283782496, 0.4019701578879181, 0.4577891420865222, 0.8657983879411809, 0.48105332226272945, 0.3956487835118912, 0.45908767845056153, 0.45947255586784536, 0.6922718507586435, 0.4923788986360327, 0.3917288814830363, 0.49938526604474043, 0.3958007168935356, 0.45291983481671794, 0.3820742305554291, 0.4168406216112876]}, {\"categories\": [\"0\", \"1\", \"2\", \"3\", \"4\", \"5\", \"6\", \"7\", \"8\", \"9\", \"10\", \"11\", \"12\", \"13\", \"14\", \"15\", \"16\", \"17\", \"18\", \"19\", \"20\", \"21\", \"22\", \"23\", \"24\", \"25\", \"26\", \"27\", \"28\", \"29\", \"30\", \"31\", \"32\", \"33\", \"34\", \"35\", \"36\", \"37\", \"38\", \"39\", \"40\", \"41\", \"42\", \"43\", \"44\", \"45\", \"46\", \"47\"], \"mode\": \"lines\", \"name\": \"log_loss_min\", \"stepped\": true, \"type\": \"scatter\", \"data\": [0.5552296145880724, 0.4808864033102538, 0.4808864033102538, 0.4181388908703259, 0.4040679954503766, 0.4040679954503766, 0.4040679954503766, 0.4040679954503766, 0.4040679954503766, 0.4040679954503766, 0.4040679954503766, 0.37753481116395804, 0.37753481116395804, 0.37753481116395804, 0.37753481116395804, 0.37753481116395804, 0.37753481116395804, 0.37753481116395804, 0.37753481116395804, 0.37753481116395804, 0.37753481116395804, 0.37753481116395804, 0.37753481116395804, 0.37753481116395804, 0.37753481116395804, 0.37753481116395804, 0.37753481116395804, 0.37753481116395804, 0.37753481116395804, 0.37753481116395804, 0.37753481116395804, 0.37753481116395804, 0.37753481116395804, 0.37753481116395804, 0.37753481116395804, 0.37753481116395804, 0.37753481116395804, 0.37753481116395804, 0.37753481116395804, 0.37753481116395804, 0.37753481116395804, 0.37753481116395804, 0.37753481116395804, 0.37753481116395804, 0.37753481116395804, 0.37753481116395804, 0.37753481116395804, 0.37753481116395804]}], \"AUC_micro\": [{\"categories\": [\"0\", \"1\", \"2\", \"3\", \"4\", \"5\", \"6\", \"7\", \"8\", \"9\", \"10\", \"11\", \"12\", \"13\", \"14\", \"15\", \"16\", \"17\", \"18\", \"19\", \"20\", \"21\", \"22\", \"23\", \"24\", \"25\", \"26\", \"27\", \"28\", \"29\", \"30\", \"31\", \"32\", \"33\", \"34\", \"35\", \"36\", \"37\", \"38\", \"39\", \"40\", \"41\", \"42\", \"43\", \"44\", \"45\", \"46\", \"47\"], \"mode\": \"markers\", \"name\": \"AUC_micro\", \"stepped\": false, \"type\": \"scatter\", \"data\": [0.8778265723766197, 0.8861676871412199, 0.891846174096262, 0.8936792456796239, 0.9062302358752609, 0.792240944602095, 0.7812588647158036, 0.8695113463357507, 0.8788192393736018, 0.7909793312613547, 0.8979492785610257, 0.9108612124578974, 0.8890621103153511, 0.8846212573007222, 0.8805357366284803, 0.9022862783958681, 0.885720996551707, 0.9041244368371796, 0.8860953330430561, 0.8364103378726684, 0.8611084295502205, 0.8821559399226261, 0.9075569849205992, 0.8956663743875402, 0.8772253752333478, 0.6869022306302519, 0.9030091367255728, 0.888249242026135, 0.8678615888173206, 0.8922652533169178, 0.8968229048741548, 0.9075847444309315, 0.9142687686740837, 0.9157073014729067, 0.8683940973629818, 0.8725650686405517, 0.8706287424490389, 0.9123219674789425, 0.9005520482060367, 0.8701896100776242, 0.5259365133702686, 0.8960499166704203, 0.9064987733285288, 0.8861171058360735, 0.9032746062489677, 0.8842448268096031, 0.9108988473992663, 0.9072508115250064]}, {\"categories\": [\"0\", \"1\", \"2\", \"3\", \"4\", \"5\", \"6\", \"7\", \"8\", \"9\", \"10\", \"11\", \"12\", \"13\", \"14\", \"15\", \"16\", \"17\", \"18\", \"19\", \"20\", \"21\", \"22\", \"23\", \"24\", \"25\", \"26\", \"27\", \"28\", \"29\", \"30\", \"31\", \"32\", \"33\", \"34\", \"35\", \"36\", \"37\", \"38\", \"39\", \"40\", \"41\", \"42\", \"43\", \"44\", \"45\", \"46\", \"47\"], \"mode\": \"lines\", \"name\": \"AUC_micro_max\", \"stepped\": true, \"type\": \"scatter\", \"data\": [0.8778265723766197, 0.8861676871412199, 0.891846174096262, 0.8936792456796239, 0.9062302358752609, 0.9062302358752609, 0.9062302358752609, 0.9062302358752609, 0.9062302358752609, 0.9062302358752609, 0.9062302358752609, 0.9108612124578974, 0.9108612124578974, 0.9108612124578974, 0.9108612124578974, 0.9108612124578974, 0.9108612124578974, 0.9108612124578974, 0.9108612124578974, 0.9108612124578974, 0.9108612124578974, 0.9108612124578974, 0.9108612124578974, 0.9108612124578974, 0.9108612124578974, 0.9108612124578974, 0.9108612124578974, 0.9108612124578974, 0.9108612124578974, 0.9108612124578974, 0.9108612124578974, 0.9108612124578974, 0.9142687686740837, 0.9157073014729067, 0.9157073014729067, 0.9157073014729067, 0.9157073014729067, 0.9157073014729067, 0.9157073014729067, 0.9157073014729067, 0.9157073014729067, 0.9157073014729067, 0.9157073014729067, 0.9157073014729067, 0.9157073014729067, 0.9157073014729067, 0.9157073014729067, 0.9157073014729067]}], \"recall_score_weighted\": [{\"categories\": [\"0\", \"1\", \"2\", \"3\", \"4\", \"5\", \"6\", \"7\", \"8\", \"9\", \"10\", \"11\", \"12\", \"13\", \"14\", \"15\", \"16\", \"17\", \"18\", \"19\", \"20\", \"21\", \"22\", \"23\", \"24\", \"25\", \"26\", \"27\", \"28\", \"29\", \"30\", \"31\", \"32\", \"33\", \"34\", \"35\", \"36\", \"37\", \"38\", \"39\", \"40\", \"41\", \"42\", \"43\", \"44\", \"45\", \"46\", \"47\"], \"mode\": \"markers\", \"name\": \"recall_score_weighted\", \"stepped\": false, \"type\": \"scatter\", \"data\": [0.8127069351230425, 0.802662192393736, 0.8159955257270693, 0.8093064876957494, 0.8494854586129754, 0.6955704697986578, 0.685592841163311, 0.782572706935123, 0.7959284116331096, 0.7223266219239374, 0.8260626398210291, 0.8361073825503356, 0.8394630872483222, 0.7960178970917225, 0.7692393736017897, 0.8394630872483222, 0.8025727069351231, 0.836152125279642, 0.7959507829977628, 0.7191051454138703, 0.7892841163310962, 0.7658836689038031, 0.8427740492170023, 0.8428859060402685, 0.8092393736017898, 0.6789485458612976, 0.839440715883669, 0.8193512304250559, 0.7658389261744967, 0.8394854586129754, 0.8159507829977628, 0.839440715883669, 0.852841163310962, 0.8528187919463087, 0.8193736017897092, 0.8126174496644295, 0.7959284116331096, 0.8361073825503356, 0.8326845637583893, 0.8127293064876957, 0.5685682326621924, 0.8427069351230425, 0.8394630872483222, 0.8294183445190157, 0.8227069351230425, 0.8060178970917226, 0.8461073825503356, 0.8629306487695749]}, {\"categories\": [\"0\", \"1\", \"2\", \"3\", \"4\", \"5\", \"6\", \"7\", \"8\", \"9\", \"10\", \"11\", \"12\", \"13\", \"14\", \"15\", \"16\", \"17\", \"18\", \"19\", \"20\", \"21\", \"22\", \"23\", \"24\", \"25\", \"26\", \"27\", \"28\", \"29\", \"30\", \"31\", \"32\", \"33\", \"34\", \"35\", \"36\", \"37\", \"38\", \"39\", \"40\", \"41\", \"42\", \"43\", \"44\", \"45\", \"46\", \"47\"], \"mode\": \"lines\", \"name\": \"recall_score_weighted_max\", \"stepped\": true, \"type\": \"scatter\", \"data\": [0.8127069351230425, 0.8127069351230425, 0.8159955257270693, 0.8159955257270693, 0.8494854586129754, 0.8494854586129754, 0.8494854586129754, 0.8494854586129754, 0.8494854586129754, 0.8494854586129754, 0.8494854586129754, 0.8494854586129754, 0.8494854586129754, 0.8494854586129754, 0.8494854586129754, 0.8494854586129754, 0.8494854586129754, 0.8494854586129754, 0.8494854586129754, 0.8494854586129754, 0.8494854586129754, 0.8494854586129754, 0.8494854586129754, 0.8494854586129754, 0.8494854586129754, 0.8494854586129754, 0.8494854586129754, 0.8494854586129754, 0.8494854586129754, 0.8494854586129754, 0.8494854586129754, 0.8494854586129754, 0.852841163310962, 0.852841163310962, 0.852841163310962, 0.852841163310962, 0.852841163310962, 0.852841163310962, 0.852841163310962, 0.852841163310962, 0.852841163310962, 0.852841163310962, 0.852841163310962, 0.852841163310962, 0.852841163310962, 0.852841163310962, 0.852841163310962, 0.8629306487695749]}], \"average_precision_score_micro\": [{\"categories\": [\"0\", \"1\", \"2\", \"3\", \"4\", \"5\", \"6\", \"7\", \"8\", \"9\", \"10\", \"11\", \"12\", \"13\", \"14\", \"15\", \"16\", \"17\", \"18\", \"19\", \"20\", \"21\", \"22\", \"23\", \"24\", \"25\", \"26\", \"27\", \"28\", \"29\", \"30\", \"31\", \"32\", \"33\", \"34\", \"35\", \"36\", \"37\", \"38\", \"39\", \"40\", \"41\", \"42\", \"43\", \"44\", \"45\", \"46\", \"47\"], \"mode\": \"markers\", \"name\": \"average_precision_score_micro\", \"stepped\": false, \"type\": \"scatter\", \"data\": [0.8729387725912188, 0.8849886003656349, 0.8888595644955204, 0.8887435714785135, 0.9041748549939115, 0.7852573419799875, 0.7738498977246484, 0.8662723281002485, 0.8768579432227521, 0.7898495923571622, 0.8992493934504394, 0.9121764714176874, 0.8895749466012086, 0.8842232946497898, 0.8742939934253025, 0.8995765525455826, 0.8856621542130454, 0.9053290312029432, 0.8869961102870041, 0.8412305614139144, 0.8553218440871251, 0.8895098338037195, 0.9079924791560334, 0.8945748715719823, 0.873468786520132, 0.6496593132159729, 0.9009377115614019, 0.884084456467413, 0.8687072198259523, 0.8691810078087172, 0.8970932134066949, 0.9089281310669022, 0.9148214585705199, 0.914734925385446, 0.8576437314738259, 0.8493155440019813, 0.8667496775102052, 0.9133872893694776, 0.9009184228218725, 0.869119446345165, 0.5119215137176312, 0.8980275058995391, 0.9054748088841431, 0.8850809329385023, 0.9024274390966913, 0.8807309296091509, 0.9103673759627464, 0.9069318197930294]}, {\"categories\": [\"0\", \"1\", \"2\", \"3\", \"4\", \"5\", \"6\", \"7\", \"8\", \"9\", \"10\", \"11\", \"12\", \"13\", \"14\", \"15\", \"16\", \"17\", \"18\", \"19\", \"20\", \"21\", \"22\", \"23\", \"24\", \"25\", \"26\", \"27\", \"28\", \"29\", \"30\", \"31\", \"32\", \"33\", \"34\", \"35\", \"36\", \"37\", \"38\", \"39\", \"40\", \"41\", \"42\", \"43\", \"44\", \"45\", \"46\", \"47\"], \"mode\": \"lines\", \"name\": \"average_precision_score_micro_max\", \"stepped\": true, \"type\": \"scatter\", \"data\": [0.8729387725912188, 0.8849886003656349, 0.8888595644955204, 0.8888595644955204, 0.9041748549939115, 0.9041748549939115, 0.9041748549939115, 0.9041748549939115, 0.9041748549939115, 0.9041748549939115, 0.9041748549939115, 0.9121764714176874, 0.9121764714176874, 0.9121764714176874, 0.9121764714176874, 0.9121764714176874, 0.9121764714176874, 0.9121764714176874, 0.9121764714176874, 0.9121764714176874, 0.9121764714176874, 0.9121764714176874, 0.9121764714176874, 0.9121764714176874, 0.9121764714176874, 0.9121764714176874, 0.9121764714176874, 0.9121764714176874, 0.9121764714176874, 0.9121764714176874, 0.9121764714176874, 0.9121764714176874, 0.9148214585705199, 0.9148214585705199, 0.9148214585705199, 0.9148214585705199, 0.9148214585705199, 0.9148214585705199, 0.9148214585705199, 0.9148214585705199, 0.9148214585705199, 0.9148214585705199, 0.9148214585705199, 0.9148214585705199, 0.9148214585705199, 0.9148214585705199, 0.9148214585705199, 0.9148214585705199]}], \"weighted_accuracy\": [{\"categories\": [\"0\", \"1\", \"2\", \"3\", \"4\", \"5\", \"6\", \"7\", \"8\", \"9\", \"10\", \"11\", \"12\", \"13\", \"14\", \"15\", \"16\", \"17\", \"18\", \"19\", \"20\", \"21\", \"22\", \"23\", \"24\", \"25\", \"26\", \"27\", \"28\", \"29\", \"30\", \"31\", \"32\", \"33\", \"34\", \"35\", \"36\", \"37\", \"38\", \"39\", \"40\", \"41\", \"42\", \"43\", \"44\", \"45\", \"46\", \"47\"], \"mode\": \"markers\", \"name\": \"weighted_accuracy\", \"stepped\": false, \"type\": \"scatter\", \"data\": [0.8569164934675346, 0.8426420083882742, 0.8459408458407287, 0.859458748743764, 0.8842037132080318, 0.7790852144007476, 0.773171828055115, 0.8247602379142607, 0.8283294733746905, 0.7814668961859508, 0.8709186774129714, 0.8701653824541209, 0.8807497002215037, 0.8621874474399107, 0.8493366703612262, 0.8742088296910986, 0.8341276372464215, 0.8807877501558267, 0.8282484945834143, 0.8291474148448068, 0.828837928833864, 0.8387523525938434, 0.8804773990876799, 0.8909739560153076, 0.8252855446877667, 0.8171689614505722, 0.8699292281287714, 0.8674266144921203, 0.8261839459148369, 0.8741278508998225, 0.8265973174318162, 0.8786503888359781, 0.8775799607605019, 0.8839675588826823, 0.8738865062312492, 0.83314009108807, 0.8282123477749401, 0.8681022178770696, 0.8470936367990074, 0.860961843830361, 0.6329235921206589, 0.8507819009850365, 0.8785694100447019, 0.8747278734504482, 0.8562080304914861, 0.8635421490409132, 0.8738174998316757, 0.9002965233646666]}, {\"categories\": [\"0\", \"1\", \"2\", \"3\", \"4\", \"5\", \"6\", \"7\", \"8\", \"9\", \"10\", \"11\", \"12\", \"13\", \"14\", \"15\", \"16\", \"17\", \"18\", \"19\", \"20\", \"21\", \"22\", \"23\", \"24\", \"25\", \"26\", \"27\", \"28\", \"29\", \"30\", \"31\", \"32\", \"33\", \"34\", \"35\", \"36\", \"37\", \"38\", \"39\", \"40\", \"41\", \"42\", \"43\", \"44\", \"45\", \"46\", \"47\"], \"mode\": \"lines\", \"name\": \"weighted_accuracy_max\", \"stepped\": true, \"type\": \"scatter\", \"data\": [0.8569164934675346, 0.8569164934675346, 0.8569164934675346, 0.859458748743764, 0.8842037132080318, 0.8842037132080318, 0.8842037132080318, 0.8842037132080318, 0.8842037132080318, 0.8842037132080318, 0.8842037132080318, 0.8842037132080318, 0.8842037132080318, 0.8842037132080318, 0.8842037132080318, 0.8842037132080318, 0.8842037132080318, 0.8842037132080318, 0.8842037132080318, 0.8842037132080318, 0.8842037132080318, 0.8842037132080318, 0.8842037132080318, 0.8909739560153076, 0.8909739560153076, 0.8909739560153076, 0.8909739560153076, 0.8909739560153076, 0.8909739560153076, 0.8909739560153076, 0.8909739560153076, 0.8909739560153076, 0.8909739560153076, 0.8909739560153076, 0.8909739560153076, 0.8909739560153076, 0.8909739560153076, 0.8909739560153076, 0.8909739560153076, 0.8909739560153076, 0.8909739560153076, 0.8909739560153076, 0.8909739560153076, 0.8909739560153076, 0.8909739560153076, 0.8909739560153076, 0.8909739560153076, 0.9002965233646666]}], \"f1_score_macro\": [{\"categories\": [\"0\", \"1\", \"2\", \"3\", \"4\", \"5\", \"6\", \"7\", \"8\", \"9\", \"10\", \"11\", \"12\", \"13\", \"14\", \"15\", \"16\", \"17\", \"18\", \"19\", \"20\", \"21\", \"22\", \"23\", \"24\", \"25\", \"26\", \"27\", \"28\", \"29\", \"30\", \"31\", \"32\", \"33\", \"34\", \"35\", \"36\", \"37\", \"38\", \"39\", \"40\", \"41\", \"42\", \"43\", \"44\", \"45\", \"46\", \"47\"], \"mode\": \"markers\", \"name\": \"f1_score_macro\", \"stepped\": false, \"type\": \"scatter\", \"data\": [0.7692501942501943, 0.7608368644045373, 0.7830181639839626, 0.7616430983404885, 0.8178207339930754, 0.5732143234851643, 0.5414495450785772, 0.736209986286589, 0.7597980482778034, 0.6428155251132314, 0.784466185616025, 0.8027286814887544, 0.8025530857596197, 0.7280153659302794, 0.6796434428937315, 0.8060647805729415, 0.7679676589334576, 0.7952686840918656, 0.7593522990591585, 0.5548262574217364, 0.7469855445884166, 0.684595786347884, 0.808822916073833, 0.8003441634975998, 0.7848417125120825, 0.4043824701195219, 0.8086976786598248, 0.7748266240398309, 0.7013925882155919, 0.8054492544452683, 0.7932590413466358, 0.8040961703925111, 0.8267231280688758, 0.8237020006225274, 0.7693534219938337, 0.784025868296232, 0.7594686394937651, 0.8042159997695388, 0.8105756891958147, 0.764326591283113, 0.4793072153486277, 0.824333199110293, 0.8037935120000459, 0.7866833169175931, 0.7883268198495492, 0.7485344123905807, 0.8182891724125785, 0.8311220225318399]}, {\"categories\": [\"0\", \"1\", \"2\", \"3\", \"4\", \"5\", \"6\", \"7\", \"8\", \"9\", \"10\", \"11\", \"12\", \"13\", \"14\", \"15\", \"16\", \"17\", \"18\", \"19\", \"20\", \"21\", \"22\", \"23\", \"24\", \"25\", \"26\", \"27\", \"28\", \"29\", \"30\", \"31\", \"32\", \"33\", \"34\", \"35\", \"36\", \"37\", \"38\", \"39\", \"40\", \"41\", \"42\", \"43\", \"44\", \"45\", \"46\", \"47\"], \"mode\": \"lines\", \"name\": \"f1_score_macro_max\", \"stepped\": true, \"type\": \"scatter\", \"data\": [0.7692501942501943, 0.7692501942501943, 0.7830181639839626, 0.7830181639839626, 0.8178207339930754, 0.8178207339930754, 0.8178207339930754, 0.8178207339930754, 0.8178207339930754, 0.8178207339930754, 0.8178207339930754, 0.8178207339930754, 0.8178207339930754, 0.8178207339930754, 0.8178207339930754, 0.8178207339930754, 0.8178207339930754, 0.8178207339930754, 0.8178207339930754, 0.8178207339930754, 0.8178207339930754, 0.8178207339930754, 0.8178207339930754, 0.8178207339930754, 0.8178207339930754, 0.8178207339930754, 0.8178207339930754, 0.8178207339930754, 0.8178207339930754, 0.8178207339930754, 0.8178207339930754, 0.8178207339930754, 0.8267231280688758, 0.8267231280688758, 0.8267231280688758, 0.8267231280688758, 0.8267231280688758, 0.8267231280688758, 0.8267231280688758, 0.8267231280688758, 0.8267231280688758, 0.8267231280688758, 0.8267231280688758, 0.8267231280688758, 0.8267231280688758, 0.8267231280688758, 0.8267231280688758, 0.8311220225318399]}], \"balanced_accuracy\": [{\"categories\": [\"0\", \"1\", \"2\", \"3\", \"4\", \"5\", \"6\", \"7\", \"8\", \"9\", \"10\", \"11\", \"12\", \"13\", \"14\", \"15\", \"16\", \"17\", \"18\", \"19\", \"20\", \"21\", \"22\", \"23\", \"24\", \"25\", \"26\", \"27\", \"28\", \"29\", \"30\", \"31\", \"32\", \"33\", \"34\", \"35\", \"36\", \"37\", \"38\", \"39\", \"40\", \"41\", \"42\", \"43\", \"44\", \"45\", \"46\", \"47\"], \"mode\": \"markers\", \"name\": \"balanced_accuracy\", \"stepped\": false, \"type\": \"scatter\", \"data\": [0.7557586759161217, 0.7512496361510688, 0.7776355117568409, 0.7445103489046767, 0.8048449103677704, 0.588175695810239, 0.5730866814811031, 0.7283734644057749, 0.7542523223740728, 0.6465867155794275, 0.76826219217411, 0.7923656612423777, 0.7862121360024945, 0.7106783096638698, 0.6656668987375864, 0.7948166416345346, 0.7620952531001868, 0.7787004100144377, 0.7544694304939166, 0.5768437141024516, 0.7382876365207974, 0.6718204239774697, 0.7942066124954301, 0.7809513103745817, 0.788784220239602, 0.5, 0.8003358706027176, 0.757141143796891, 0.6878710932445444, 0.7950337497543782, 0.8027734371608344, 0.7888631964266641, 0.8211539829751154, 0.8128151197281104, 0.7487537462846946, 0.7866814726733331, 0.7544936976265122, 0.7949924545339517, 0.8143527476294921, 0.7507221974528173, 0.4856344159740998, 0.8325027714898894, 0.7890803045465079, 0.7711959230711454, 0.7796693039971413, 0.7319621444533153, 0.8105399522353707, 0.8148659400562416]}, {\"categories\": [\"0\", \"1\", \"2\", \"3\", \"4\", \"5\", \"6\", \"7\", \"8\", \"9\", \"10\", \"11\", \"12\", \"13\", \"14\", \"15\", \"16\", \"17\", \"18\", \"19\", \"20\", \"21\", \"22\", \"23\", \"24\", \"25\", \"26\", \"27\", \"28\", \"29\", \"30\", \"31\", \"32\", \"33\", \"34\", \"35\", \"36\", \"37\", \"38\", \"39\", \"40\", \"41\", \"42\", \"43\", \"44\", \"45\", \"46\", \"47\"], \"mode\": \"lines\", \"name\": \"balanced_accuracy_max\", \"stepped\": true, \"type\": \"scatter\", \"data\": [0.7557586759161217, 0.7557586759161217, 0.7776355117568409, 0.7776355117568409, 0.8048449103677704, 0.8048449103677704, 0.8048449103677704, 0.8048449103677704, 0.8048449103677704, 0.8048449103677704, 0.8048449103677704, 0.8048449103677704, 0.8048449103677704, 0.8048449103677704, 0.8048449103677704, 0.8048449103677704, 0.8048449103677704, 0.8048449103677704, 0.8048449103677704, 0.8048449103677704, 0.8048449103677704, 0.8048449103677704, 0.8048449103677704, 0.8048449103677704, 0.8048449103677704, 0.8048449103677704, 0.8048449103677704, 0.8048449103677704, 0.8048449103677704, 0.8048449103677704, 0.8048449103677704, 0.8048449103677704, 0.8211539829751154, 0.8211539829751154, 0.8211539829751154, 0.8211539829751154, 0.8211539829751154, 0.8211539829751154, 0.8211539829751154, 0.8211539829751154, 0.8211539829751154, 0.8325027714898894, 0.8325027714898894, 0.8325027714898894, 0.8325027714898894, 0.8325027714898894, 0.8325027714898894, 0.8325027714898894]}], \"accuracy\": [{\"categories\": [\"0\", \"1\", \"2\", \"3\", \"4\", \"5\", \"6\", \"7\", \"8\", \"9\", \"10\", \"11\", \"12\", \"13\", \"14\", \"15\", \"16\", \"17\", \"18\", \"19\", \"20\", \"21\", \"22\", \"23\", \"24\", \"25\", \"26\", \"27\", \"28\", \"29\", \"30\", \"31\", \"32\", \"33\", \"34\", \"35\", \"36\", \"37\", \"38\", \"39\", \"40\", \"41\", \"42\", \"43\", \"44\", \"45\", \"46\", \"47\"], \"mode\": \"markers\", \"name\": \"accuracy\", \"stepped\": false, \"type\": \"scatter\", \"data\": [0.8127069351230425, 0.802662192393736, 0.8159955257270693, 0.8093064876957494, 0.8494854586129754, 0.6955704697986578, 0.685592841163311, 0.782572706935123, 0.7959284116331096, 0.7223266219239374, 0.8260626398210291, 0.8361073825503356, 0.8394630872483222, 0.7960178970917225, 0.7692393736017897, 0.8394630872483222, 0.8025727069351231, 0.836152125279642, 0.7959507829977628, 0.7191051454138703, 0.7892841163310962, 0.7658836689038031, 0.8427740492170023, 0.8428859060402685, 0.8092393736017898, 0.6789485458612976, 0.839440715883669, 0.8193512304250559, 0.7658389261744967, 0.8394854586129754, 0.8159507829977628, 0.839440715883669, 0.852841163310962, 0.8528187919463087, 0.8193736017897092, 0.8126174496644295, 0.7959284116331096, 0.8361073825503356, 0.8326845637583893, 0.8127293064876957, 0.5685682326621924, 0.8427069351230425, 0.8394630872483222, 0.8294183445190157, 0.8227069351230425, 0.8060178970917226, 0.8461073825503356, 0.8629306487695749]}, {\"categories\": [\"0\", \"1\", \"2\", \"3\", \"4\", \"5\", \"6\", \"7\", \"8\", \"9\", \"10\", \"11\", \"12\", \"13\", \"14\", \"15\", \"16\", \"17\", \"18\", \"19\", \"20\", \"21\", \"22\", \"23\", \"24\", \"25\", \"26\", \"27\", \"28\", \"29\", \"30\", \"31\", \"32\", \"33\", \"34\", \"35\", \"36\", \"37\", \"38\", \"39\", \"40\", \"41\", \"42\", \"43\", \"44\", \"45\", \"46\", \"47\"], \"mode\": \"lines\", \"name\": \"accuracy_max\", \"stepped\": true, \"type\": \"scatter\", \"data\": [0.8127069351230425, 0.8127069351230425, 0.8159955257270693, 0.8159955257270693, 0.8494854586129754, 0.8494854586129754, 0.8494854586129754, 0.8494854586129754, 0.8494854586129754, 0.8494854586129754, 0.8494854586129754, 0.8494854586129754, 0.8494854586129754, 0.8494854586129754, 0.8494854586129754, 0.8494854586129754, 0.8494854586129754, 0.8494854586129754, 0.8494854586129754, 0.8494854586129754, 0.8494854586129754, 0.8494854586129754, 0.8494854586129754, 0.8494854586129754, 0.8494854586129754, 0.8494854586129754, 0.8494854586129754, 0.8494854586129754, 0.8494854586129754, 0.8494854586129754, 0.8494854586129754, 0.8494854586129754, 0.852841163310962, 0.852841163310962, 0.852841163310962, 0.852841163310962, 0.852841163310962, 0.852841163310962, 0.852841163310962, 0.852841163310962, 0.852841163310962, 0.852841163310962, 0.852841163310962, 0.852841163310962, 0.852841163310962, 0.852841163310962, 0.852841163310962, 0.8629306487695749]}], \"average_precision_score_weighted\": [{\"categories\": [\"0\", \"1\", \"2\", \"3\", \"4\", \"5\", \"6\", \"7\", \"8\", \"9\", \"10\", \"11\", \"12\", \"13\", \"14\", \"15\", \"16\", \"17\", \"18\", \"19\", \"20\", \"21\", \"22\", \"23\", \"24\", \"25\", \"26\", \"27\", \"28\", \"29\", \"30\", \"31\", \"32\", \"33\", \"34\", \"35\", \"36\", \"37\", \"38\", \"39\", \"40\", \"41\", \"42\", \"43\", \"44\", \"45\", \"46\", \"47\"], \"mode\": \"markers\", \"name\": \"average_precision_score_weighted\", \"stepped\": false, \"type\": \"scatter\", \"data\": [0.862550328383885, 0.8780079755412578, 0.8877382587849887, 0.8799533941937873, 0.8964406343071114, 0.7709263404703259, 0.7590263782131201, 0.8566966472463475, 0.8665839996852734, 0.7932503327066492, 0.897123445658561, 0.9061728273604944, 0.8997392628084813, 0.8881347786614942, 0.8682037893260124, 0.8868800671025383, 0.8768594599545698, 0.9052299921604778, 0.8832563307994423, 0.8451653566368948, 0.8417258557258849, 0.8887724642333701, 0.900850217967175, 0.8888013498980307, 0.8708464390775731, 0.5820506514621123, 0.8984434683715863, 0.8810089332212263, 0.8594959242807405, 0.8733135739485194, 0.9027432365404082, 0.9052391267052324, 0.9163621966287061, 0.9167562898367418, 0.8518980661893629, 0.8267433323726634, 0.8626099222225666, 0.9088084523223292, 0.9067584661074918, 0.8581943161515431, 0.5598090145046892, 0.900501281443054, 0.8947489643965375, 0.8827673328949808, 0.8976879792285908, 0.8838357684445652, 0.9097260151108615, 0.9056582482126201]}, {\"categories\": [\"0\", \"1\", \"2\", \"3\", \"4\", \"5\", \"6\", \"7\", \"8\", \"9\", \"10\", \"11\", \"12\", \"13\", \"14\", \"15\", \"16\", \"17\", \"18\", \"19\", \"20\", \"21\", \"22\", \"23\", \"24\", \"25\", \"26\", \"27\", \"28\", \"29\", \"30\", \"31\", \"32\", \"33\", \"34\", \"35\", \"36\", \"37\", \"38\", \"39\", \"40\", \"41\", \"42\", \"43\", \"44\", \"45\", \"46\", \"47\"], \"mode\": \"lines\", \"name\": \"average_precision_score_weighted_max\", \"stepped\": true, \"type\": \"scatter\", \"data\": [0.862550328383885, 0.8780079755412578, 0.8877382587849887, 0.8877382587849887, 0.8964406343071114, 0.8964406343071114, 0.8964406343071114, 0.8964406343071114, 0.8964406343071114, 0.8964406343071114, 0.897123445658561, 0.9061728273604944, 0.9061728273604944, 0.9061728273604944, 0.9061728273604944, 0.9061728273604944, 0.9061728273604944, 0.9061728273604944, 0.9061728273604944, 0.9061728273604944, 0.9061728273604944, 0.9061728273604944, 0.9061728273604944, 0.9061728273604944, 0.9061728273604944, 0.9061728273604944, 0.9061728273604944, 0.9061728273604944, 0.9061728273604944, 0.9061728273604944, 0.9061728273604944, 0.9061728273604944, 0.9163621966287061, 0.9167562898367418, 0.9167562898367418, 0.9167562898367418, 0.9167562898367418, 0.9167562898367418, 0.9167562898367418, 0.9167562898367418, 0.9167562898367418, 0.9167562898367418, 0.9167562898367418, 0.9167562898367418, 0.9167562898367418, 0.9167562898367418, 0.9167562898367418, 0.9167562898367418]}], \"AUC_weighted\": [{\"categories\": [\"0\", \"1\", \"2\", \"3\", \"4\", \"5\", \"6\", \"7\", \"8\", \"9\", \"10\", \"11\", \"12\", \"13\", \"14\", \"15\", \"16\", \"17\", \"18\", \"19\", \"20\", \"21\", \"22\", \"23\", \"24\", \"25\", \"26\", \"27\", \"28\", \"29\", \"30\", \"31\", \"32\", \"33\", \"34\", \"35\", \"36\", \"37\", \"38\", \"39\", \"40\", \"41\", \"42\", \"43\", \"44\", \"45\", \"46\", \"47\"], \"mode\": \"markers\", \"name\": \"AUC_weighted\", \"stepped\": false, \"type\": \"scatter\", \"data\": [0.8555301412749636, 0.870407990455504, 0.8768747545363205, 0.8794783344136052, 0.8957974384192269, 0.7485281241209354, 0.7366065237976378, 0.8433768493704625, 0.860257574696194, 0.7708064055620142, 0.8873169448946632, 0.8989715013875785, 0.8876955142705913, 0.8805285333008283, 0.8762454739637587, 0.8875334734694384, 0.8675210341140881, 0.8955659786560506, 0.867708048039102, 0.8386018194933336, 0.83629410264211, 0.882717148371883, 0.8998906914777709, 0.883507647845319, 0.8607876898389437, 0.5181450081612591, 0.8915503108764045, 0.868460992992099, 0.8484190389869872, 0.8785486387518986, 0.8956542907873071, 0.8978306511144587, 0.9089349032218744, 0.9104995906093637, 0.8357929015296872, 0.8386722816364801, 0.8506223428912327, 0.9029153055787303, 0.8996790626931201, 0.8540795505056877, 0.4852265637664377, 0.8922249750964215, 0.8954173516889377, 0.871237930605147, 0.8908919792901362, 0.874635866564869, 0.8994185519162373, 0.89809500796316]}, {\"categories\": [\"0\", \"1\", \"2\", \"3\", \"4\", \"5\", \"6\", \"7\", \"8\", \"9\", \"10\", \"11\", \"12\", \"13\", \"14\", \"15\", \"16\", \"17\", \"18\", \"19\", \"20\", \"21\", \"22\", \"23\", \"24\", \"25\", \"26\", \"27\", \"28\", \"29\", \"30\", \"31\", \"32\", \"33\", \"34\", \"35\", \"36\", \"37\", \"38\", \"39\", \"40\", \"41\", \"42\", \"43\", \"44\", \"45\", \"46\", \"47\"], \"mode\": \"lines\", \"name\": \"AUC_weighted_max\", \"stepped\": true, \"type\": \"scatter\", \"data\": [0.8555301412749636, 0.870407990455504, 0.8768747545363205, 0.8794783344136052, 0.8957974384192269, 0.8957974384192269, 0.8957974384192269, 0.8957974384192269, 0.8957974384192269, 0.8957974384192269, 0.8957974384192269, 0.8989715013875785, 0.8989715013875785, 0.8989715013875785, 0.8989715013875785, 0.8989715013875785, 0.8989715013875785, 0.8989715013875785, 0.8989715013875785, 0.8989715013875785, 0.8989715013875785, 0.8989715013875785, 0.8998906914777709, 0.8998906914777709, 0.8998906914777709, 0.8998906914777709, 0.8998906914777709, 0.8998906914777709, 0.8998906914777709, 0.8998906914777709, 0.8998906914777709, 0.8998906914777709, 0.9089349032218744, 0.9104995906093637, 0.9104995906093637, 0.9104995906093637, 0.9104995906093637, 0.9104995906093637, 0.9104995906093637, 0.9104995906093637, 0.9104995906093637, 0.9104995906093637, 0.9104995906093637, 0.9104995906093637, 0.9104995906093637, 0.9104995906093637, 0.9104995906093637, 0.9104995906093637]}], \"AUC_macro\": [{\"categories\": [\"0\", \"1\", \"2\", \"3\", \"4\", \"5\", \"6\", \"7\", \"8\", \"9\", \"10\", \"11\", \"12\", \"13\", \"14\", \"15\", \"16\", \"17\", \"18\", \"19\", \"20\", \"21\", \"22\", \"23\", \"24\", \"25\", \"26\", \"27\", \"28\", \"29\", \"30\", \"31\", \"32\", \"33\", \"34\", \"35\", \"36\", \"37\", \"38\", \"39\", \"40\", \"41\", \"42\", \"43\", \"44\", \"45\", \"46\", \"47\"], \"mode\": \"markers\", \"name\": \"AUC_macro\", \"stepped\": false, \"type\": \"scatter\", \"data\": [0.8555301412749637, 0.8704079904555039, 0.8768747545363205, 0.8794783344136053, 0.8957974384192269, 0.7485281241209356, 0.7366065237976378, 0.8433768493704624, 0.860257574696194, 0.7708064055620141, 0.8873169448946632, 0.8989715013875784, 0.8876955142705913, 0.8805285333008283, 0.8762454739637586, 0.8875334734694383, 0.8675210341140881, 0.8955659786560506, 0.8677080480391018, 0.8386018194933335, 0.8362941026421101, 0.882717148371883, 0.8998906914777708, 0.8835076478453189, 0.8607876898389438, 0.518145008161259, 0.8915503108764045, 0.8684609929920989, 0.8484190389869872, 0.8785486387518986, 0.8956542907873071, 0.8978306511144588, 0.9089349032218743, 0.9104995906093636, 0.8357929015296871, 0.8386722816364801, 0.8506223428912327, 0.9029153055787303, 0.8996790626931201, 0.8540795505056877, 0.4852265637664377, 0.8922249750964215, 0.8954173516889377, 0.871237930605147, 0.8908919792901361, 0.8746358665648691, 0.8994185519162373, 0.89809500796316]}, {\"categories\": [\"0\", \"1\", \"2\", \"3\", \"4\", \"5\", \"6\", \"7\", \"8\", \"9\", \"10\", \"11\", \"12\", \"13\", \"14\", \"15\", \"16\", \"17\", \"18\", \"19\", \"20\", \"21\", \"22\", \"23\", \"24\", \"25\", \"26\", \"27\", \"28\", \"29\", \"30\", \"31\", \"32\", \"33\", \"34\", \"35\", \"36\", \"37\", \"38\", \"39\", \"40\", \"41\", \"42\", \"43\", \"44\", \"45\", \"46\", \"47\"], \"mode\": \"lines\", \"name\": \"AUC_macro_max\", \"stepped\": true, \"type\": \"scatter\", \"data\": [0.8555301412749637, 0.8704079904555039, 0.8768747545363205, 0.8794783344136053, 0.8957974384192269, 0.8957974384192269, 0.8957974384192269, 0.8957974384192269, 0.8957974384192269, 0.8957974384192269, 0.8957974384192269, 0.8989715013875784, 0.8989715013875784, 0.8989715013875784, 0.8989715013875784, 0.8989715013875784, 0.8989715013875784, 0.8989715013875784, 0.8989715013875784, 0.8989715013875784, 0.8989715013875784, 0.8989715013875784, 0.8998906914777708, 0.8998906914777708, 0.8998906914777708, 0.8998906914777708, 0.8998906914777708, 0.8998906914777708, 0.8998906914777708, 0.8998906914777708, 0.8998906914777708, 0.8998906914777708, 0.9089349032218743, 0.9104995906093636, 0.9104995906093636, 0.9104995906093636, 0.9104995906093636, 0.9104995906093636, 0.9104995906093636, 0.9104995906093636, 0.9104995906093636, 0.9104995906093636, 0.9104995906093636, 0.9104995906093636, 0.9104995906093636, 0.9104995906093636, 0.9104995906093636, 0.9104995906093636]}], \"recall_score_macro\": [{\"categories\": [\"0\", \"1\", \"2\", \"3\", \"4\", \"5\", \"6\", \"7\", \"8\", \"9\", \"10\", \"11\", \"12\", \"13\", \"14\", \"15\", \"16\", \"17\", \"18\", \"19\", \"20\", \"21\", \"22\", \"23\", \"24\", \"25\", \"26\", \"27\", \"28\", \"29\", \"30\", \"31\", \"32\", \"33\", \"34\", \"35\", \"36\", \"37\", \"38\", \"39\", \"40\", \"41\", \"42\", \"43\", \"44\", \"45\", \"46\", \"47\"], \"mode\": \"markers\", \"name\": \"recall_score_macro\", \"stepped\": false, \"type\": \"scatter\", \"data\": [0.7557586759161217, 0.7512496361510688, 0.7776355117568409, 0.7445103489046767, 0.8048449103677704, 0.588175695810239, 0.5730866814811031, 0.7283734644057749, 0.7542523223740728, 0.6465867155794275, 0.76826219217411, 0.7923656612423777, 0.7862121360024945, 0.7106783096638698, 0.6656668987375864, 0.7948166416345346, 0.7620952531001868, 0.7787004100144377, 0.7544694304939166, 0.5768437141024516, 0.7382876365207974, 0.6718204239774697, 0.7942066124954301, 0.7809513103745817, 0.788784220239602, 0.5, 0.8003358706027176, 0.757141143796891, 0.6878710932445444, 0.7950337497543782, 0.8027734371608344, 0.7888631964266641, 0.8211539829751154, 0.8128151197281104, 0.7487537462846946, 0.7866814726733331, 0.7544936976265122, 0.7949924545339517, 0.8143527476294921, 0.7507221974528173, 0.4856344159740998, 0.8325027714898894, 0.7890803045465079, 0.7711959230711454, 0.7796693039971413, 0.7319621444533153, 0.8105399522353707, 0.8148659400562416]}, {\"categories\": [\"0\", \"1\", \"2\", \"3\", \"4\", \"5\", \"6\", \"7\", \"8\", \"9\", \"10\", \"11\", \"12\", \"13\", \"14\", \"15\", \"16\", \"17\", \"18\", \"19\", \"20\", \"21\", \"22\", \"23\", \"24\", \"25\", \"26\", \"27\", \"28\", \"29\", \"30\", \"31\", \"32\", \"33\", \"34\", \"35\", \"36\", \"37\", \"38\", \"39\", \"40\", \"41\", \"42\", \"43\", \"44\", \"45\", \"46\", \"47\"], \"mode\": \"lines\", \"name\": \"recall_score_macro_max\", \"stepped\": true, \"type\": \"scatter\", \"data\": [0.7557586759161217, 0.7557586759161217, 0.7776355117568409, 0.7776355117568409, 0.8048449103677704, 0.8048449103677704, 0.8048449103677704, 0.8048449103677704, 0.8048449103677704, 0.8048449103677704, 0.8048449103677704, 0.8048449103677704, 0.8048449103677704, 0.8048449103677704, 0.8048449103677704, 0.8048449103677704, 0.8048449103677704, 0.8048449103677704, 0.8048449103677704, 0.8048449103677704, 0.8048449103677704, 0.8048449103677704, 0.8048449103677704, 0.8048449103677704, 0.8048449103677704, 0.8048449103677704, 0.8048449103677704, 0.8048449103677704, 0.8048449103677704, 0.8048449103677704, 0.8048449103677704, 0.8048449103677704, 0.8211539829751154, 0.8211539829751154, 0.8211539829751154, 0.8211539829751154, 0.8211539829751154, 0.8211539829751154, 0.8211539829751154, 0.8211539829751154, 0.8211539829751154, 0.8325027714898894, 0.8325027714898894, 0.8325027714898894, 0.8325027714898894, 0.8325027714898894, 0.8325027714898894, 0.8325027714898894]}], \"precision_score_macro\": [{\"categories\": [\"0\", \"1\", \"2\", \"3\", \"4\", \"5\", \"6\", \"7\", \"8\", \"9\", \"10\", \"11\", \"12\", \"13\", \"14\", \"15\", \"16\", \"17\", \"18\", \"19\", \"20\", \"21\", \"22\", \"23\", \"24\", \"25\", \"26\", \"27\", \"28\", \"29\", \"30\", \"31\", \"32\", \"33\", \"34\", \"35\", \"36\", \"37\", \"38\", \"39\", \"40\", \"41\", \"42\", \"43\", \"44\", \"45\", \"46\", \"47\"], \"mode\": \"markers\", \"name\": \"precision_score_macro\", \"stepped\": false, \"type\": \"scatter\", \"data\": [0.8038548007066774, 0.7878442465157718, 0.8039761854644265, 0.8041099819912363, 0.8477656143865515, 0.7325369334715128, 0.732540976021826, 0.7660799319727891, 0.7738193704565386, 0.7296296296296296, 0.8263072986203828, 0.8295506233315639, 0.837361655959217, 0.8135752379819471, 0.7845099255583127, 0.8337203750220021, 0.7893338898669422, 0.8403355609321976, 0.7744422330335643, 0.7552800433397449, 0.7650556680161943, 0.769417735042735, 0.8408411033411034, 0.853754237565713, 0.7896455474845305, 0.3394742729306488, 0.8318621816542708, 0.8133840582311656, 0.7477255796655913, 0.8345307518039939, 0.8072722789180815, 0.8350694209362766, 0.8419209228776419, 0.8494203502500351, 0.8222521509836982, 0.8084680177703434, 0.7769191980139986, 0.8255700628292643, 0.8149937546489271, 0.8148383874190326, 0.47976824628156345, 0.8231114465040404, 0.8358035241536778, 0.841677005789909, 0.811101233596887, 0.8239144599666388, 0.8371637426900584, 0.8675485479990481]}, {\"categories\": [\"0\", \"1\", \"2\", \"3\", \"4\", \"5\", \"6\", \"7\", \"8\", \"9\", \"10\", \"11\", \"12\", \"13\", \"14\", \"15\", \"16\", \"17\", \"18\", \"19\", \"20\", \"21\", \"22\", \"23\", \"24\", \"25\", \"26\", \"27\", \"28\", \"29\", \"30\", \"31\", \"32\", \"33\", \"34\", \"35\", \"36\", \"37\", \"38\", \"39\", \"40\", \"41\", \"42\", \"43\", \"44\", \"45\", \"46\", \"47\"], \"mode\": \"lines\", \"name\": \"precision_score_macro_max\", \"stepped\": true, \"type\": \"scatter\", \"data\": [0.8038548007066774, 0.8038548007066774, 0.8039761854644265, 0.8041099819912363, 0.8477656143865515, 0.8477656143865515, 0.8477656143865515, 0.8477656143865515, 0.8477656143865515, 0.8477656143865515, 0.8477656143865515, 0.8477656143865515, 0.8477656143865515, 0.8477656143865515, 0.8477656143865515, 0.8477656143865515, 0.8477656143865515, 0.8477656143865515, 0.8477656143865515, 0.8477656143865515, 0.8477656143865515, 0.8477656143865515, 0.8477656143865515, 0.853754237565713, 0.853754237565713, 0.853754237565713, 0.853754237565713, 0.853754237565713, 0.853754237565713, 0.853754237565713, 0.853754237565713, 0.853754237565713, 0.853754237565713, 0.853754237565713, 0.853754237565713, 0.853754237565713, 0.853754237565713, 0.853754237565713, 0.853754237565713, 0.853754237565713, 0.853754237565713, 0.853754237565713, 0.853754237565713, 0.853754237565713, 0.853754237565713, 0.853754237565713, 0.853754237565713, 0.8675485479990481]}], \"norm_macro_recall\": [{\"categories\": [\"0\", \"1\", \"2\", \"3\", \"4\", \"5\", \"6\", \"7\", \"8\", \"9\", \"10\", \"11\", \"12\", \"13\", \"14\", \"15\", \"16\", \"17\", \"18\", \"19\", \"20\", \"21\", \"22\", \"23\", \"24\", \"25\", \"26\", \"27\", \"28\", \"29\", \"30\", \"31\", \"32\", \"33\", \"34\", \"35\", \"36\", \"37\", \"38\", \"39\", \"40\", \"41\", \"42\", \"43\", \"44\", \"45\", \"46\", \"47\"], \"mode\": \"markers\", \"name\": \"norm_macro_recall\", \"stepped\": false, \"type\": \"scatter\", \"data\": [0.5115173518322433, 0.5024992723021376, 0.5552710235136817, 0.4890206978093534, 0.6096898207355409, 0.17635139162047797, 0.14617336296220618, 0.4567469288115499, 0.5085046447481456, 0.29317343115885497, 0.5365243843482199, 0.5847313224847555, 0.572424272004989, 0.4213566193277395, 0.3313337974751729, 0.5896332832690692, 0.5241905062003736, 0.5574008200288754, 0.5089388609878331, 0.1536874282049031, 0.47657527304159486, 0.3436408479549392, 0.5884132249908601, 0.5619026207491633, 0.5775684404792042, 0.0, 0.6006717412054352, 0.514282287593782, 0.37574218648908897, 0.5900674995087565, 0.6055468743216688, 0.5777263928533284, 0.6423079659502309, 0.6256302394562206, 0.4975074925693892, 0.5733629453466661, 0.5089873952530244, 0.5899849090679036, 0.6287054952589841, 0.5014443949056345, 0.00844806007509391, 0.6650055429797788, 0.5781606090930158, 0.5423918461422909, 0.5593386079942826, 0.46392428890663073, 0.6210799044707412, 0.6297318801124832]}, {\"categories\": [\"0\", \"1\", \"2\", \"3\", \"4\", \"5\", \"6\", \"7\", \"8\", \"9\", \"10\", \"11\", \"12\", \"13\", \"14\", \"15\", \"16\", \"17\", \"18\", \"19\", \"20\", \"21\", \"22\", \"23\", \"24\", \"25\", \"26\", \"27\", \"28\", \"29\", \"30\", \"31\", \"32\", \"33\", \"34\", \"35\", \"36\", \"37\", \"38\", \"39\", \"40\", \"41\", \"42\", \"43\", \"44\", \"45\", \"46\", \"47\"], \"mode\": \"lines\", \"name\": \"norm_macro_recall_max\", \"stepped\": true, \"type\": \"scatter\", \"data\": [0.5115173518322433, 0.5115173518322433, 0.5552710235136817, 0.5552710235136817, 0.6096898207355409, 0.6096898207355409, 0.6096898207355409, 0.6096898207355409, 0.6096898207355409, 0.6096898207355409, 0.6096898207355409, 0.6096898207355409, 0.6096898207355409, 0.6096898207355409, 0.6096898207355409, 0.6096898207355409, 0.6096898207355409, 0.6096898207355409, 0.6096898207355409, 0.6096898207355409, 0.6096898207355409, 0.6096898207355409, 0.6096898207355409, 0.6096898207355409, 0.6096898207355409, 0.6096898207355409, 0.6096898207355409, 0.6096898207355409, 0.6096898207355409, 0.6096898207355409, 0.6096898207355409, 0.6096898207355409, 0.6423079659502309, 0.6423079659502309, 0.6423079659502309, 0.6423079659502309, 0.6423079659502309, 0.6423079659502309, 0.6423079659502309, 0.6423079659502309, 0.6423079659502309, 0.6650055429797788, 0.6650055429797788, 0.6650055429797788, 0.6650055429797788, 0.6650055429797788, 0.6650055429797788, 0.6650055429797788]}], \"recall_score_micro\": [{\"categories\": [\"0\", \"1\", \"2\", \"3\", \"4\", \"5\", \"6\", \"7\", \"8\", \"9\", \"10\", \"11\", \"12\", \"13\", \"14\", \"15\", \"16\", \"17\", \"18\", \"19\", \"20\", \"21\", \"22\", \"23\", \"24\", \"25\", \"26\", \"27\", \"28\", \"29\", \"30\", \"31\", \"32\", \"33\", \"34\", \"35\", \"36\", \"37\", \"38\", \"39\", \"40\", \"41\", \"42\", \"43\", \"44\", \"45\", \"46\", \"47\"], \"mode\": \"markers\", \"name\": \"recall_score_micro\", \"stepped\": false, \"type\": \"scatter\", \"data\": [0.8127069351230425, 0.802662192393736, 0.8159955257270693, 0.8093064876957494, 0.8494854586129754, 0.6955704697986578, 0.685592841163311, 0.782572706935123, 0.7959284116331096, 0.7223266219239374, 0.8260626398210291, 0.8361073825503356, 0.8394630872483222, 0.7960178970917225, 0.7692393736017897, 0.8394630872483222, 0.8025727069351231, 0.836152125279642, 0.7959507829977628, 0.7191051454138703, 0.7892841163310962, 0.7658836689038031, 0.8427740492170023, 0.8428859060402685, 0.8092393736017898, 0.6789485458612976, 0.839440715883669, 0.8193512304250559, 0.7658389261744967, 0.8394854586129754, 0.8159507829977628, 0.839440715883669, 0.852841163310962, 0.8528187919463087, 0.8193736017897092, 0.8126174496644295, 0.7959284116331096, 0.8361073825503356, 0.8326845637583893, 0.8127293064876957, 0.5685682326621924, 0.8427069351230425, 0.8394630872483222, 0.8294183445190157, 0.8227069351230425, 0.8060178970917226, 0.8461073825503356, 0.8629306487695749]}, {\"categories\": [\"0\", \"1\", \"2\", \"3\", \"4\", \"5\", \"6\", \"7\", \"8\", \"9\", \"10\", \"11\", \"12\", \"13\", \"14\", \"15\", \"16\", \"17\", \"18\", \"19\", \"20\", \"21\", \"22\", \"23\", \"24\", \"25\", \"26\", \"27\", \"28\", \"29\", \"30\", \"31\", \"32\", \"33\", \"34\", \"35\", \"36\", \"37\", \"38\", \"39\", \"40\", \"41\", \"42\", \"43\", \"44\", \"45\", \"46\", \"47\"], \"mode\": \"lines\", \"name\": \"recall_score_micro_max\", \"stepped\": true, \"type\": \"scatter\", \"data\": [0.8127069351230425, 0.8127069351230425, 0.8159955257270693, 0.8159955257270693, 0.8494854586129754, 0.8494854586129754, 0.8494854586129754, 0.8494854586129754, 0.8494854586129754, 0.8494854586129754, 0.8494854586129754, 0.8494854586129754, 0.8494854586129754, 0.8494854586129754, 0.8494854586129754, 0.8494854586129754, 0.8494854586129754, 0.8494854586129754, 0.8494854586129754, 0.8494854586129754, 0.8494854586129754, 0.8494854586129754, 0.8494854586129754, 0.8494854586129754, 0.8494854586129754, 0.8494854586129754, 0.8494854586129754, 0.8494854586129754, 0.8494854586129754, 0.8494854586129754, 0.8494854586129754, 0.8494854586129754, 0.852841163310962, 0.852841163310962, 0.852841163310962, 0.852841163310962, 0.852841163310962, 0.852841163310962, 0.852841163310962, 0.852841163310962, 0.852841163310962, 0.852841163310962, 0.852841163310962, 0.852841163310962, 0.852841163310962, 0.852841163310962, 0.852841163310962, 0.8629306487695749]}], \"f1_score_weighted\": [{\"categories\": [\"0\", \"1\", \"2\", \"3\", \"4\", \"5\", \"6\", \"7\", \"8\", \"9\", \"10\", \"11\", \"12\", \"13\", \"14\", \"15\", \"16\", \"17\", \"18\", \"19\", \"20\", \"21\", \"22\", \"23\", \"24\", \"25\", \"26\", \"27\", \"28\", \"29\", \"30\", \"31\", \"32\", \"33\", \"34\", \"35\", \"36\", \"37\", \"38\", \"39\", \"40\", \"41\", \"42\", \"43\", \"44\", \"45\", \"46\", \"47\"], \"mode\": \"markers\", \"name\": \"f1_score_weighted\", \"stepped\": false, \"type\": \"scatter\", \"data\": [0.8048405818640718, 0.7962700620594443, 0.81284040348786, 0.799792388908575, 0.8447954126841708, 0.6524677035075059, 0.629962126889492, 0.7752121343803458, 0.7929196485105163, 0.7003551278618452, 0.8181624681777895, 0.8314731923472252, 0.8329989397699994, 0.7762830324844061, 0.7401679219144506, 0.8345939890160553, 0.79961689321737, 0.8277001268022823, 0.7925987618709103, 0.6511887799973624, 0.7838602594366442, 0.7415619571985681, 0.8375357813459321, 0.8329955648230248, 0.8104672596225602, 0.5491321514835512, 0.8358340188334858, 0.8107421456780406, 0.7509669708516427, 0.8341911168150652, 0.816667209203643, 0.8338097406362526, 0.8505493468996193, 0.8491289609670232, 0.8078785673391617, 0.8109885212295223, 0.7925805616865502, 0.8322682165054179, 0.833488742281256, 0.8020109029554026, 0.555414986879529, 0.8445525835168444, 0.8335786732356388, 0.8203750102172114, 0.8185705989906319, 0.7910355536376511, 0.8435419646515694, 0.8570995413243072]}, {\"categories\": [\"0\", \"1\", \"2\", \"3\", \"4\", \"5\", \"6\", \"7\", \"8\", \"9\", \"10\", \"11\", \"12\", \"13\", \"14\", \"15\", \"16\", \"17\", \"18\", \"19\", \"20\", \"21\", \"22\", \"23\", \"24\", \"25\", \"26\", \"27\", \"28\", \"29\", \"30\", \"31\", \"32\", \"33\", \"34\", \"35\", \"36\", \"37\", \"38\", \"39\", \"40\", \"41\", \"42\", \"43\", \"44\", \"45\", \"46\", \"47\"], \"mode\": \"lines\", \"name\": \"f1_score_weighted_max\", \"stepped\": true, \"type\": \"scatter\", \"data\": [0.8048405818640718, 0.8048405818640718, 0.81284040348786, 0.81284040348786, 0.8447954126841708, 0.8447954126841708, 0.8447954126841708, 0.8447954126841708, 0.8447954126841708, 0.8447954126841708, 0.8447954126841708, 0.8447954126841708, 0.8447954126841708, 0.8447954126841708, 0.8447954126841708, 0.8447954126841708, 0.8447954126841708, 0.8447954126841708, 0.8447954126841708, 0.8447954126841708, 0.8447954126841708, 0.8447954126841708, 0.8447954126841708, 0.8447954126841708, 0.8447954126841708, 0.8447954126841708, 0.8447954126841708, 0.8447954126841708, 0.8447954126841708, 0.8447954126841708, 0.8447954126841708, 0.8447954126841708, 0.8505493468996193, 0.8505493468996193, 0.8505493468996193, 0.8505493468996193, 0.8505493468996193, 0.8505493468996193, 0.8505493468996193, 0.8505493468996193, 0.8505493468996193, 0.8505493468996193, 0.8505493468996193, 0.8505493468996193, 0.8505493468996193, 0.8505493468996193, 0.8505493468996193, 0.8570995413243072]}]}, \"metricName\": null, \"primaryMetricName\": \"accuracy\", \"showLegend\": false}, \"run_metrics\": [{\"name\": \"experiment_status\", \"run_id\": \"AutoML_99f14971-4f03-446c-aed7-c4fd72ad11a7\", \"categories\": [0, 1, 2, 3, 4, 5, 6, 7, 8, 9, 10, 11, 12, 13], \"series\": [{\"data\": [\"DatasetEvaluation\", \"FeaturesGeneration\", \"DatasetFeaturization\", \"DatasetFeaturizationCompleted\", \"DatasetCrossValidationSplit\", \"ModelSelection\", \"BestRunExplainModel\", \"ModelExplanationDataSetSetup\", \"PickSurrogateModel\", \"EngineeredFeatureExplanations\", \"EngineeredFeatureExplanations\", \"RawFeaturesExplanations\", \"RawFeaturesExplanations\", \"BestRunExplainModel\"]}]}, {\"name\": \"experiment_status_description\", \"run_id\": \"AutoML_99f14971-4f03-446c-aed7-c4fd72ad11a7\", \"categories\": [0, 1, 2, 3, 4, 5, 6, 7, 8, 9, 10, 11, 12, 13], \"series\": [{\"data\": [\"Gathering dataset statistics.\", \"Generating features for the dataset.\", \"Beginning to fit featurizers and featurize the dataset.\", \"Completed fit featurizers and featurizing the dataset.\", \"Generating individually featurized CV splits.\", \"Beginning model selection.\", \"Best run model explanations started\", \"Model explanations data setup completed\", \"Choosing LightGBM as the surrogate model for explanations\", \"Computation of engineered features started\", \"Computation of engineered features completed\", \"Computation of raw features started\", \"Computation of raw features completed\", \"Best run model explanations completed\"]}]}, {\"name\": \"AUC_weighted\", \"run_id\": \"AutoML_99f14971-4f03-446c-aed7-c4fd72ad11a7\", \"categories\": [0], \"series\": [{\"data\": [0.89809500796316]}]}, {\"name\": \"average_precision_score_macro\", \"run_id\": \"AutoML_99f14971-4f03-446c-aed7-c4fd72ad11a7\", \"categories\": [0], \"series\": [{\"data\": [0.883063656792922]}]}, {\"name\": \"AUC_macro\", \"run_id\": \"AutoML_99f14971-4f03-446c-aed7-c4fd72ad11a7\", \"categories\": [0], \"series\": [{\"data\": [0.89809500796316]}]}, {\"name\": \"recall_score_micro\", \"run_id\": \"AutoML_99f14971-4f03-446c-aed7-c4fd72ad11a7\", \"categories\": [0], \"series\": [{\"data\": [0.8629306487695749]}]}, {\"name\": \"recall_score_weighted\", \"run_id\": \"AutoML_99f14971-4f03-446c-aed7-c4fd72ad11a7\", \"categories\": [0], \"series\": [{\"data\": [0.8629306487695749]}]}, {\"name\": \"f1_score_weighted\", \"run_id\": \"AutoML_99f14971-4f03-446c-aed7-c4fd72ad11a7\", \"categories\": [0], \"series\": [{\"data\": [0.8570995413243072]}]}, {\"name\": \"balanced_accuracy\", \"run_id\": \"AutoML_99f14971-4f03-446c-aed7-c4fd72ad11a7\", \"categories\": [0], \"series\": [{\"data\": [0.8148659400562416]}]}, {\"name\": \"precision_score_macro\", \"run_id\": \"AutoML_99f14971-4f03-446c-aed7-c4fd72ad11a7\", \"categories\": [0], \"series\": [{\"data\": [0.8675485479990481]}]}, {\"name\": \"precision_score_micro\", \"run_id\": \"AutoML_99f14971-4f03-446c-aed7-c4fd72ad11a7\", \"categories\": [0], \"series\": [{\"data\": [0.8629306487695749]}]}, {\"name\": \"log_loss\", \"run_id\": \"AutoML_99f14971-4f03-446c-aed7-c4fd72ad11a7\", \"categories\": [0], \"series\": [{\"data\": [0.4168406216112876]}]}, {\"name\": \"f1_score_micro\", \"run_id\": \"AutoML_99f14971-4f03-446c-aed7-c4fd72ad11a7\", \"categories\": [0], \"series\": [{\"data\": [0.8629306487695749]}]}, {\"name\": \"average_precision_score_weighted\", \"run_id\": \"AutoML_99f14971-4f03-446c-aed7-c4fd72ad11a7\", \"categories\": [0], \"series\": [{\"data\": [0.9056582482126201]}]}, {\"name\": \"AUC_micro\", \"run_id\": \"AutoML_99f14971-4f03-446c-aed7-c4fd72ad11a7\", \"categories\": [0], \"series\": [{\"data\": [0.9072508115250064]}]}, {\"name\": \"accuracy\", \"run_id\": \"AutoML_99f14971-4f03-446c-aed7-c4fd72ad11a7\", \"categories\": [0], \"series\": [{\"data\": [0.8629306487695749]}]}, {\"name\": \"precision_score_weighted\", \"run_id\": \"AutoML_99f14971-4f03-446c-aed7-c4fd72ad11a7\", \"categories\": [0], \"series\": [{\"data\": [0.8664304925332674]}]}, {\"name\": \"average_precision_score_micro\", \"run_id\": \"AutoML_99f14971-4f03-446c-aed7-c4fd72ad11a7\", \"categories\": [0], \"series\": [{\"data\": [0.9069318197930294]}]}, {\"name\": \"weighted_accuracy\", \"run_id\": \"AutoML_99f14971-4f03-446c-aed7-c4fd72ad11a7\", \"categories\": [0], \"series\": [{\"data\": [0.9002965233646666]}]}, {\"name\": \"recall_score_macro\", \"run_id\": \"AutoML_99f14971-4f03-446c-aed7-c4fd72ad11a7\", \"categories\": [0], \"series\": [{\"data\": [0.8148659400562416]}]}, {\"name\": \"f1_score_macro\", \"run_id\": \"AutoML_99f14971-4f03-446c-aed7-c4fd72ad11a7\", \"categories\": [0], \"series\": [{\"data\": [0.8311220225318399]}]}, {\"name\": \"matthews_correlation\", \"run_id\": \"AutoML_99f14971-4f03-446c-aed7-c4fd72ad11a7\", \"categories\": [0], \"series\": [{\"data\": [0.67935260054681]}]}, {\"name\": \"norm_macro_recall\", \"run_id\": \"AutoML_99f14971-4f03-446c-aed7-c4fd72ad11a7\", \"categories\": [0], \"series\": [{\"data\": [0.6297318801124832]}]}], \"run_logs\": \"\\nRun is completed.\", \"graph\": {}, \"widget_settings\": {\"childWidgetDisplay\": \"popup\", \"send_telemetry\": false, \"log_level\": \"INFO\", \"sdk_version\": \"1.26.0\"}, \"loading\": false}"
          },
          "metadata": {}
        }
      ],
      "execution_count": 8,
      "metadata": {
        "gather": {
          "logged": 1619339990043
        },
        "jupyter": {
          "outputs_hidden": false,
          "source_hidden": false
        },
        "nteract": {
          "transient": {
            "deleting": false
          }
        }
      }
    },
    {
      "cell_type": "markdown",
      "source": [
        "## Best Model\n",
        "\n"
      ],
      "metadata": {}
    },
    {
      "cell_type": "code",
      "source": [
        "best_automl_run, fit_model = automl_run.get_output()\n",
        "print(\"Best run metrics :\",best_automl_run.get_metrics())\n",
        "print(\"Best run properties :\",best_automl_run.get_properties())"
      ],
      "outputs": [
        {
          "output_type": "stream",
          "name": "stderr",
          "text": [
            "WARNING:root:The version of the SDK does not match the version the model was trained on.\n",
            "WARNING:root:The consistency in the result may not be guaranteed.\n",
            "WARNING:root:Package:azureml-automl-core, training version:1.27.0, current version:1.26.0\n",
            "Package:azureml-automl-runtime, training version:1.27.0.post1, current version:1.26.0\n",
            "Package:azureml-core, training version:1.27.0, current version:1.26.0\n",
            "Package:azureml-dataprep, training version:2.14.2, current version:2.13.2\n",
            "Package:azureml-dataprep-native, training version:33.0.0, current version:32.0.0\n",
            "Package:azureml-dataprep-rslex, training version:1.12.1, current version:1.11.2\n",
            "Package:azureml-dataset-runtime, training version:1.27.0, current version:1.26.0\n",
            "Package:azureml-defaults, training version:1.27.0, current version:1.26.0\n",
            "Package:azureml-interpret, training version:1.27.0, current version:1.26.0\n",
            "Package:azureml-mlflow, training version:1.27.0, current version:1.26.0\n",
            "Package:azureml-pipeline-core, training version:1.27.0, current version:1.26.0\n",
            "Package:azureml-telemetry, training version:1.27.0, current version:1.26.0\n",
            "Package:azureml-train-automl-client, training version:1.27.0, current version:1.26.0\n",
            "Package:azureml-train-automl-runtime, training version:1.27.0.post1, current version:1.26.0\n",
            "WARNING:root:Please ensure the version of your local conda dependencies match the version on which your model was trained in order to properly retrieve your model.\n"
          ]
        },
        {
          "output_type": "stream",
          "name": "stdout",
          "text": [
            "Best run metrics : {'matthews_correlation': 0.67935260054681, 'norm_macro_recall': 0.6297318801124832, 'precision_score_micro': 0.8629306487695749, 'AUC_micro': 0.9072508115250064, 'recall_score_micro': 0.8629306487695749, 'AUC_macro': 0.89809500796316, 'f1_score_micro': 0.8629306487695749, 'precision_score_weighted': 0.8664304925332674, 'recall_score_weighted': 0.8629306487695749, 'f1_score_weighted': 0.8570995413243072, 'average_precision_score_macro': 0.883063656792922, 'average_precision_score_weighted': 0.9056582482126201, 'precision_score_macro': 0.8675485479990481, 'average_precision_score_micro': 0.9069318197930294, 'weighted_accuracy': 0.9002965233646666, 'AUC_weighted': 0.89809500796316, 'balanced_accuracy': 0.8148659400562416, 'f1_score_macro': 0.8311220225318399, 'log_loss': 0.4168406216112876, 'accuracy': 0.8629306487695749, 'recall_score_macro': 0.8148659400562416, 'accuracy_table': 'aml://artifactId/ExperimentRun/dcid.AutoML_99f14971-4f03-446c-aed7-c4fd72ad11a7_47/accuracy_table', 'confusion_matrix': 'aml://artifactId/ExperimentRun/dcid.AutoML_99f14971-4f03-446c-aed7-c4fd72ad11a7_47/confusion_matrix'}\n",
            "Best run properties : {'runTemplate': 'automl_child', 'pipeline_id': '__AutoML_Ensemble__', 'pipeline_spec': '{\"pipeline_id\":\"__AutoML_Ensemble__\",\"objects\":[{\"module\":\"azureml.train.automl.ensemble\",\"class_name\":\"Ensemble\",\"spec_class\":\"sklearn\",\"param_args\":[],\"param_kwargs\":{\"automl_settings\":\"{\\'task_type\\':\\'classification\\',\\'primary_metric\\':\\'accuracy\\',\\'verbosity\\':20,\\'ensemble_iterations\\':15,\\'is_timeseries\\':False,\\'name\\':\\'capstone-heart-failure-prediction\\',\\'compute_target\\':\\'MLAzureCapstoneCompute\\',\\'subscription_id\\':\\'ca1598e0-85dc-47d5-b06d-41b5342b4989\\',\\'region\\':\\'eastus2\\',\\'spark_service\\':None}\",\"ensemble_run_id\":\"AutoML_99f14971-4f03-446c-aed7-c4fd72ad11a7_47\",\"experiment_name\":\"capstone-heart-failure-prediction\",\"workspace_name\":\"ws_udacity_capstone\",\"subscription_id\":\"ca1598e0-85dc-47d5-b06d-41b5342b4989\",\"resource_group_name\":\"UdacityMLAzureCapstone\"}}]}', 'training_percent': '100', 'predicted_cost': None, 'iteration': '47', '_aml_system_scenario_identification': 'Remote.Child', '_azureml.ComputeTargetType': 'amlcompute', 'ContentSnapshotId': '5099b069-7c15-4964-93e6-bfac3d3870b2', 'ProcessInfoFile': 'azureml-logs/process_info.json', 'ProcessStatusFile': 'azureml-logs/process_status.json', 'run_template': 'automl_child', 'run_preprocessor': '', 'run_algorithm': 'VotingEnsemble', 'model_output_path': 'outputs/model.pkl', 'conda_env_data_location': 'aml://artifact/ExperimentRun/dcid.AutoML_99f14971-4f03-446c-aed7-c4fd72ad11a7_47/outputs/conda_env_v_1_0_0.yml', 'model_data_location': 'aml://artifact/ExperimentRun/dcid.AutoML_99f14971-4f03-446c-aed7-c4fd72ad11a7_47/outputs/model.pkl', 'model_size_on_disk': '840519', 'scoring_data_location': 'aml://artifact/ExperimentRun/dcid.AutoML_99f14971-4f03-446c-aed7-c4fd72ad11a7_47/outputs/scoring_file_v_1_0_0.py', 'model_exp_support': 'True', 'pipeline_graph_version': '1.0.0', 'model_name': 'AutoML99f14971447', 'staticProperties': '{}', 'score': '0.8629306487695749', 'score_table': 'NaN', 'run_properties': \"classification_labels=None,\\n                              estimators=[('32',\\n                                           Pipeline(memory=None,\\n                                                    steps=[('robustscaler',\\n                                                            RobustScaler(copy=True,\\n                                                                         quantile_range=[25,\\n                                                                                         75],\\n                                                                         with_centering=True,\\n                                                                         with_scaling=False\", 'pipeline_script': '{\"pipeline_id\":\"__AutoML_Ensemble__\",\"objects\":[{\"module\":\"azureml.train.automl.ensemble\",\"class_name\":\"Ensemble\",\"spec_class\":\"sklearn\",\"param_args\":[],\"param_kwargs\":{\"automl_settings\":\"{\\'task_type\\':\\'classification\\',\\'primary_metric\\':\\'accuracy\\',\\'verbosity\\':20,\\'ensemble_iterations\\':15,\\'is_timeseries\\':False,\\'name\\':\\'capstone-heart-failure-prediction\\',\\'compute_target\\':\\'MLAzureCapstoneCompute\\',\\'subscription_id\\':\\'ca1598e0-85dc-47d5-b06d-41b5342b4989\\',\\'region\\':\\'eastus2\\',\\'spark_service\\':None}\",\"ensemble_run_id\":\"AutoML_99f14971-4f03-446c-aed7-c4fd72ad11a7_47\",\"experiment_name\":\"capstone-heart-failure-prediction\",\"workspace_name\":\"ws_udacity_capstone\",\"subscription_id\":\"ca1598e0-85dc-47d5-b06d-41b5342b4989\",\"resource_group_name\":\"UdacityMLAzureCapstone\"}}]}', 'training_type': 'MeanCrossValidation', 'num_classes': '', 'framework': 'sklearn', 'fit_time': '21', 'goal': 'accuracy_max', 'class_labels': '', 'primary_metric': 'accuracy', 'errors': '{}', 'onnx_model_resource': \"{'RawColumnNameToOnnxNameMap': {'age': 'age', 'anaemia': 'anaemia', 'creatinine_phosphokinase': 'creatinine_phosphokinase', 'diabetes': 'diabetes', 'ejection_fraction': 'ejection_fraction', 'high_blood_pressure': 'high_blood_pressure', 'platelets': 'platelets', 'serum_creatinine': 'serum_creatinine', 'serum_sodium': 'serum_sodium', 'sex': 'sex', 'smoking': 'smoking', 'time': 'time'}, 'InputRawColumnSchema': {'age': 'floating', 'anaemia': 'integer', 'creatinine_phosphokinase': 'integer', 'diabetes': 'integer', 'ejection_fraction': 'integer', 'high_blood_pressure': 'integer', 'platelets': 'floating', 'serum_creatinine': 'floating', 'serum_sodium': 'integer', 'sex': 'integer', 'smoking': 'integer', 'time': 'integer'}, 'InputOnnxColumnSchema': {'age': 'FloatTensorType', 'anaemia': 'Int64TensorType', 'creatinine_phosphokinase': 'Int64TensorType', 'diabetes': 'Int64TensorType', 'ejection_fraction': 'Int64TensorType', 'high_blood_pressure': 'Int64TensorType', 'platelets': 'FloatTensorType', 'serum_creatinine': 'FloatTensorType', 'serum_sodium': 'Int64TensorType', 'sex': 'Int64TensorType', 'smoking': 'Int64TensorType', 'time': 'Int64TensorType'}, 'CanEnableBatchMode': True}\", 'error_code': '', 'failure_reason': '', 'dependencies_versions': '{\"azureml-train-automl-runtime\": \"1.27.0.post1\", \"azureml-train-automl-client\": \"1.27.0\", \"azureml-telemetry\": \"1.27.0\", \"azureml-pipeline-core\": \"1.27.0\", \"azureml-model-management-sdk\": \"1.0.1b6.post1\", \"azureml-mlflow\": \"1.27.0\", \"azureml-interpret\": \"1.27.0\", \"azureml-defaults\": \"1.27.0\", \"azureml-dataset-runtime\": \"1.27.0\", \"azureml-dataprep\": \"2.14.2\", \"azureml-dataprep-rslex\": \"1.12.1\", \"azureml-dataprep-native\": \"33.0.0\", \"azureml-core\": \"1.27.0\", \"azureml-automl-runtime\": \"1.27.0.post1\", \"azureml-automl-core\": \"1.27.0\"}', 'num_cores': '4', 'num_logical_cores': '4', 'peak_memory_usage': '543308', 'vm_configuration': 'Intel(R) Xeon(R) CPU E5-2673 v4 @ 2.30GHz', 'core_hours': '0.005007366388888889', 'feature_skus': 'automatedml_sdk_guardrails'}\n"
          ]
        }
      ],
      "execution_count": 11,
      "metadata": {
        "gather": {
          "logged": 1619340414889
        },
        "jupyter": {
          "outputs_hidden": false,
          "source_hidden": false
        },
        "nteract": {
          "transient": {
            "deleting": false
          }
        }
      }
    },
    {
      "cell_type": "code",
      "source": [
        "# Save the best model\n",
        "\n",
        "best_automl_run.download_file('outputs/model.pkl', 'best_automl_model.pkl')\n",
        "print(best_automl_run)"
      ],
      "outputs": [
        {
          "output_type": "stream",
          "name": "stdout",
          "text": [
            "Run(Experiment: capstone-heart-failure-prediction,\n",
            "Id: AutoML_99f14971-4f03-446c-aed7-c4fd72ad11a7_47,\n",
            "Type: azureml.scriptrun,\n",
            "Status: Completed)\n"
          ]
        }
      ],
      "execution_count": 12,
      "metadata": {
        "gather": {
          "logged": 1619340424911
        },
        "jupyter": {
          "outputs_hidden": false,
          "source_hidden": false
        },
        "nteract": {
          "transient": {
            "deleting": false
          }
        }
      }
    },
    {
      "cell_type": "markdown",
      "source": [
        "## Model Deployment"
      ],
      "metadata": {}
    },
    {
      "cell_type": "code",
      "source": [
        "model = automl_run.register_model(model_name = 'best_automl_model.pkl')\n",
        "print(automl_run.model_id)\n",
        "\n",
        "environment = best_automl_run.get_environment()\n",
        "entry_script='inference/scoring.py'\n",
        "best_automl_run.download_file('outputs/scoring_file_v_1_0_0.py', entry_script)\n",
        "\n",
        "inference_config = InferenceConfig(entry_script = entry_script, environment = environment)\n",
        "\n",
        "# Deploy model using ACI WebService\n",
        "\n",
        "deployment_config = AciWebservice.deploy_configuration(cpu_cores = 1, \n",
        "                                                    memory_gb = 1, \n",
        "                                                    auth_enabled= True, \n",
        "                                                    enable_app_insights= True)\n",
        "\n",
        "service = Model.deploy(ws, \"aciservice\", [model], inference_config, deployment_config)\n",
        "service.wait_for_deployment(show_output = True)"
      ],
      "outputs": [
        {
          "output_type": "stream",
          "name": "stdout",
          "text": [
            "best_automl_model.pkl\n",
            "Tips: You can try get_logs(): https://aka.ms/debugimage#dockerlog or local deployment: https://aka.ms/debugimage#debug-locally to debug if deployment takes longer than 10 minutes.\n",
            "Running\n",
            "2021-04-25 08:51:29+00:00 Creating Container Registry if not exists.\n",
            "2021-04-25 08:51:29+00:00 Registering the environment.\n",
            "2021-04-25 08:51:29+00:00 Use the existing image.\n",
            "2021-04-25 08:51:30+00:00 Generating deployment configuration.\n",
            "2021-04-25 08:51:30+00:00 Submitting deployment to compute.\n",
            "2021-04-25 08:51:34+00:00 Checking the status of deployment aciservice..\n",
            "2021-04-25 08:55:01+00:00 Checking the status of inference endpoint aciservice.\n",
            "Succeeded\n",
            "ACI service creation operation finished, operation \"Succeeded\"\n"
          ]
        }
      ],
      "execution_count": 18,
      "metadata": {
        "gather": {
          "logged": 1619340908964
        },
        "jupyter": {
          "outputs_hidden": false,
          "source_hidden": false
        },
        "nteract": {
          "transient": {
            "deleting": false
          }
        }
      }
    },
    {
      "cell_type": "markdown",
      "source": [
        "TODO: In the cell below, send a request to the web service you deployed to test it."
      ],
      "metadata": {
        "collapsed": true,
        "gather": {
          "logged": 1598431657736
        },
        "jupyter": {
          "outputs_hidden": false,
          "source_hidden": false
        },
        "nteract": {
          "transient": {
            "deleting": false
          }
        }
      }
    },
    {
      "cell_type": "code",
      "source": [
        "%run endpoint.py"
      ],
      "outputs": [
        {
          "output_type": "stream",
          "name": "stdout",
          "text": [
            "{\"result\": [1]}\n"
          ]
        }
      ],
      "execution_count": 20,
      "metadata": {
        "gather": {
          "logged": 1598432707604
        },
        "jupyter": {
          "outputs_hidden": false,
          "source_hidden": false
        },
        "nteract": {
          "transient": {
            "deleting": false
          }
        }
      }
    },
    {
      "cell_type": "markdown",
      "source": [
        "TODO: In the cell below, print the logs of the web service and delete the service"
      ],
      "metadata": {
        "collapsed": true,
        "gather": {
          "logged": 1598432765711
        },
        "jupyter": {
          "outputs_hidden": false,
          "source_hidden": false
        },
        "nteract": {
          "transient": {
            "deleting": false
          }
        }
      }
    },
    {
      "cell_type": "code",
      "source": [
        "# Printing the logs\n",
        "print(service.get_logs())"
      ],
      "outputs": [
        {
          "output_type": "stream",
          "name": "stdout",
          "text": [
            "2021-04-25T08:54:55,665359700+00:00 - iot-server/run \n",
            "2021-04-25T08:54:55,666891300+00:00 - rsyslog/run \n",
            "2021-04-25T08:54:55,680748200+00:00 - gunicorn/run \n",
            "2021-04-25T08:54:55,697176000+00:00 - nginx/run \n",
            "/usr/sbin/nginx: /azureml-envs/azureml_38f1e90f927390c3641ac84304d53445/lib/libcrypto.so.1.0.0: no version information available (required by /usr/sbin/nginx)\n",
            "/usr/sbin/nginx: /azureml-envs/azureml_38f1e90f927390c3641ac84304d53445/lib/libcrypto.so.1.0.0: no version information available (required by /usr/sbin/nginx)\n",
            "/usr/sbin/nginx: /azureml-envs/azureml_38f1e90f927390c3641ac84304d53445/lib/libssl.so.1.0.0: no version information available (required by /usr/sbin/nginx)\n",
            "/usr/sbin/nginx: /azureml-envs/azureml_38f1e90f927390c3641ac84304d53445/lib/libssl.so.1.0.0: no version information available (required by /usr/sbin/nginx)\n",
            "/usr/sbin/nginx: /azureml-envs/azureml_38f1e90f927390c3641ac84304d53445/lib/libssl.so.1.0.0: no version information available (required by /usr/sbin/nginx)\n",
            "rsyslogd: /azureml-envs/azureml_38f1e90f927390c3641ac84304d53445/lib/libuuid.so.1: no version information available (required by rsyslogd)\n",
            "EdgeHubConnectionString and IOTEDGE_IOTHUBHOSTNAME are not set. Exiting...\n",
            "2021-04-25T08:54:55,975304500+00:00 - iot-server/finish 1 0\n",
            "2021-04-25T08:54:55,980861800+00:00 - Exit code 1 is normal. Not restarting iot-server.\n",
            "Starting gunicorn 19.9.0\n",
            "Listening at: http://127.0.0.1:31311 (69)\n",
            "Using worker: sync\n",
            "worker timeout is set to 300\n",
            "Booting worker with pid: 98\n",
            "SPARK_HOME not set. Skipping PySpark Initialization.\n",
            "Generating new fontManager, this may take some time...\n",
            "Initializing logger\n",
            "2021-04-25 08:54:58,364 | root | INFO | Starting up app insights client\n",
            "2021-04-25 08:54:58,365 | root | INFO | Starting up request id generator\n",
            "2021-04-25 08:54:58,366 | root | INFO | Starting up app insight hooks\n",
            "2021-04-25 08:54:58,366 | root | INFO | Invoking user's init function\n",
            "2021-04-25 08:55:02,754 | azureml.core | WARNING | Failure while loading azureml_run_type_providers. Failed to load entrypoint automl = azureml.train.automl.run:AutoMLRun._from_run_dto with exception cannot import name 'RunType'.\n",
            "Failure while loading azureml_run_type_providers. Failed to load entrypoint automl = azureml.train.automl.run:AutoMLRun._from_run_dto with exception cannot import name 'RunType'.\n",
            "2021-04-25 08:55:03,384 | root | INFO | Users's init has completed successfully\n",
            "2021-04-25 08:55:03,392 | root | INFO | Skipping middleware: dbg_model_info as it's not enabled.\n",
            "2021-04-25 08:55:03,411 | root | INFO | Skipping middleware: dbg_resource_usage as it's not enabled.\n",
            "2021-04-25 08:55:03,414 | root | INFO | Scoring timeout is found from os.environ: 60000 ms\n",
            "2021-04-25 08:55:03,520 | root | INFO | 200\n",
            "127.0.0.1 - - [25/Apr/2021:08:55:03 +0000] \"GET /swagger.json HTTP/1.0\" 200 3023 \"-\" \"Go-http-client/1.1\"\n",
            "2021-04-25 08:55:08,004 | root | INFO | 200\n",
            "127.0.0.1 - - [25/Apr/2021:08:55:07 +0000] \"GET /swagger.json HTTP/1.0\" 200 3023 \"-\" \"Go-http-client/1.1\"\n",
            "2021-04-25 08:57:59,304 | root | INFO | 200\n",
            "127.0.0.1 - - [25/Apr/2021:08:57:59 +0000] \"GET /swagger.json HTTP/1.0\" 200 3023 \"-\" \"Go-http-client/1.1\"\n",
            "2021-04-25 08:58:06,418 | root | INFO | 200\n",
            "127.0.0.1 - - [25/Apr/2021:08:58:06 +0000] \"GET /swagger.json HTTP/1.0\" 200 3023 \"-\" \"Go-http-client/1.1\"\n",
            "2021-04-25 08:59:00,771 | root | INFO | 200\n",
            "127.0.0.1 - - [25/Apr/2021:08:59:00 +0000] \"GET /swagger.json HTTP/1.0\" 200 3023 \"-\" \"Go-http-client/1.1\"\n",
            "2021-04-25 08:59:01,753 | root | INFO | 200\n",
            "127.0.0.1 - - [25/Apr/2021:08:59:01 +0000] \"GET /swagger.json HTTP/1.0\" 200 3023 \"-\" \"Go-http-client/1.1\"\n",
            "2021-04-25 09:00:18,969 | root | INFO | Validation Request Content-Type\n",
            "2021-04-25 09:00:18,969 | root | INFO | Scoring Timer is set to 60.0 seconds\n",
            "2021-04-25 09:00:19,154 | root | INFO | 200\n",
            "127.0.0.1 - - [25/Apr/2021:09:00:19 +0000] \"POST /score HTTP/1.0\" 200 19 \"-\" \"python-requests/2.25.1\"\n",
            "\n"
          ]
        }
      ],
      "execution_count": 21,
      "metadata": {
        "jupyter": {
          "outputs_hidden": false,
          "source_hidden": false
        },
        "nteract": {
          "transient": {
            "deleting": false
          }
        },
        "gather": {
          "logged": 1619341246436
        }
      }
    },
    {
      "cell_type": "code",
      "source": [
        "service.delete()"
      ],
      "outputs": [],
      "execution_count": 22,
      "metadata": {
        "collapsed": true,
        "jupyter": {
          "source_hidden": false,
          "outputs_hidden": false
        },
        "nteract": {
          "transient": {
            "deleting": false
          }
        },
        "gather": {
          "logged": 1619341256769
        }
      }
    }
  ],
  "metadata": {
    "kernel_info": {
      "name": "python3"
    },
    "kernelspec": {
      "name": "python3",
      "language": "python",
      "display_name": "Python 3"
    },
    "language_info": {
      "name": "python",
      "version": "3.6.9",
      "mimetype": "text/x-python",
      "codemirror_mode": {
        "name": "ipython",
        "version": 3
      },
      "pygments_lexer": "ipython3",
      "nbconvert_exporter": "python",
      "file_extension": ".py"
    },
    "nteract": {
      "version": "nteract-front-end@1.0.0"
    },
    "microsoft": {
      "host": {
        "AzureML": {
          "notebookHasBeenCompleted": true
        }
      }
    }
  },
  "nbformat": 4,
  "nbformat_minor": 2
}